{
  "nbformat": 4,
  "nbformat_minor": 0,
  "metadata": {
    "colab": {
      "provenance": [],
      "authorship_tag": "ABX9TyNa7o8kqvufWf6AEwm2b93V",
      "include_colab_link": true
    },
    "kernelspec": {
      "name": "python3",
      "display_name": "Python 3"
    },
    "language_info": {
      "name": "python"
    }
  },
  "cells": [
    {
      "cell_type": "markdown",
      "metadata": {
        "id": "view-in-github",
        "colab_type": "text"
      },
      "source": [
        "<a href=\"https://colab.research.google.com/github/alanbseo/MFAworkshop/blob/main/MFA_2_MaterialIntensity_EmbeddedCarbon.ipynb\" target=\"_parent\"><img src=\"https://colab.research.google.com/assets/colab-badge.svg\" alt=\"Open In Colab\"/></a>"
      ]
    },
    {
      "cell_type": "markdown",
      "source": [
        "# 이 노트북에서는 지난 번 코드에서 전처리한 자료를 읽어서 MI와 Embedded Carbon을 계산해 보도록 합시다.\n",
        "\n",
        "## Colab 기본 설정\n"
      ],
      "metadata": {
        "id": "g0YY8cYogesz"
      }
    },
    {
      "cell_type": "code",
      "execution_count": 2,
      "metadata": {
        "id": "VrJKP7IRzhjR",
        "colab": {
          "base_uri": "https://localhost:8080/"
        },
        "outputId": "8ef0a828-d7bc-4457-daa1-97a491de6750"
      },
      "outputs": [
        {
          "output_type": "stream",
          "name": "stdout",
          "text": [
            "Looking in indexes: https://pypi.org/simple, https://us-python.pkg.dev/colab-wheels/public/simple/\n",
            "Collecting geopandas\n",
            "  Downloading geopandas-0.13.1-py3-none-any.whl (1.1 MB)\n",
            "\u001b[2K     \u001b[90m━━━━━━━━━━━━━━━━━━━━━━━━━━━━━━━━━━━━━━━━\u001b[0m \u001b[32m1.1/1.1 MB\u001b[0m \u001b[31m23.0 MB/s\u001b[0m eta \u001b[36m0:00:00\u001b[0m\n",
            "\u001b[?25hCollecting fiona>=1.8.19 (from geopandas)\n",
            "  Downloading Fiona-1.9.4.post1-cp310-cp310-manylinux_2_17_x86_64.manylinux2014_x86_64.whl (16.4 MB)\n",
            "\u001b[2K     \u001b[90m━━━━━━━━━━━━━━━━━━━━━━━━━━━━━━━━━━━━━━━━\u001b[0m \u001b[32m16.4/16.4 MB\u001b[0m \u001b[31m65.2 MB/s\u001b[0m eta \u001b[36m0:00:00\u001b[0m\n",
            "\u001b[?25hRequirement already satisfied: packaging in /usr/local/lib/python3.10/dist-packages (from geopandas) (23.1)\n",
            "Requirement already satisfied: pandas>=1.1.0 in /usr/local/lib/python3.10/dist-packages (from geopandas) (1.5.3)\n",
            "Collecting pyproj>=3.0.1 (from geopandas)\n",
            "  Downloading pyproj-3.5.0-cp310-cp310-manylinux_2_17_x86_64.manylinux2014_x86_64.whl (7.7 MB)\n",
            "\u001b[2K     \u001b[90m━━━━━━━━━━━━━━━━━━━━━━━━━━━━━━━━━━━━━━━━\u001b[0m \u001b[32m7.7/7.7 MB\u001b[0m \u001b[31m83.6 MB/s\u001b[0m eta \u001b[36m0:00:00\u001b[0m\n",
            "\u001b[?25hRequirement already satisfied: shapely>=1.7.1 in /usr/local/lib/python3.10/dist-packages (from geopandas) (2.0.1)\n",
            "Requirement already satisfied: attrs>=19.2.0 in /usr/local/lib/python3.10/dist-packages (from fiona>=1.8.19->geopandas) (23.1.0)\n",
            "Requirement already satisfied: certifi in /usr/local/lib/python3.10/dist-packages (from fiona>=1.8.19->geopandas) (2022.12.7)\n",
            "Requirement already satisfied: click~=8.0 in /usr/local/lib/python3.10/dist-packages (from fiona>=1.8.19->geopandas) (8.1.3)\n",
            "Collecting click-plugins>=1.0 (from fiona>=1.8.19->geopandas)\n",
            "  Downloading click_plugins-1.1.1-py2.py3-none-any.whl (7.5 kB)\n",
            "Collecting cligj>=0.5 (from fiona>=1.8.19->geopandas)\n",
            "  Downloading cligj-0.7.2-py3-none-any.whl (7.1 kB)\n",
            "Requirement already satisfied: six in /usr/local/lib/python3.10/dist-packages (from fiona>=1.8.19->geopandas) (1.16.0)\n",
            "Requirement already satisfied: python-dateutil>=2.8.1 in /usr/local/lib/python3.10/dist-packages (from pandas>=1.1.0->geopandas) (2.8.2)\n",
            "Requirement already satisfied: pytz>=2020.1 in /usr/local/lib/python3.10/dist-packages (from pandas>=1.1.0->geopandas) (2022.7.1)\n",
            "Requirement already satisfied: numpy>=1.21.0 in /usr/local/lib/python3.10/dist-packages (from pandas>=1.1.0->geopandas) (1.22.4)\n",
            "Installing collected packages: pyproj, cligj, click-plugins, fiona, geopandas\n",
            "Successfully installed click-plugins-1.1.1 cligj-0.7.2 fiona-1.9.4.post1 geopandas-0.13.1 pyproj-3.5.0\n",
            "Looking in indexes: https://pypi.org/simple, https://us-python.pkg.dev/colab-wheels/public/simple/\n",
            "Collecting rasterio\n",
            "  Downloading rasterio-1.3.7-cp310-cp310-manylinux_2_17_x86_64.manylinux2014_x86_64.whl (21.3 MB)\n",
            "\u001b[2K     \u001b[90m━━━━━━━━━━━━━━━━━━━━━━━━━━━━━━━━━━━━━━━━\u001b[0m \u001b[32m21.3/21.3 MB\u001b[0m \u001b[31m24.7 MB/s\u001b[0m eta \u001b[36m0:00:00\u001b[0m\n",
            "\u001b[?25hCollecting affine (from rasterio)\n",
            "  Downloading affine-2.4.0-py3-none-any.whl (15 kB)\n",
            "Requirement already satisfied: attrs in /usr/local/lib/python3.10/dist-packages (from rasterio) (23.1.0)\n",
            "Requirement already satisfied: certifi in /usr/local/lib/python3.10/dist-packages (from rasterio) (2022.12.7)\n",
            "Requirement already satisfied: click>=4.0 in /usr/local/lib/python3.10/dist-packages (from rasterio) (8.1.3)\n",
            "Requirement already satisfied: cligj>=0.5 in /usr/local/lib/python3.10/dist-packages (from rasterio) (0.7.2)\n",
            "Requirement already satisfied: numpy>=1.18 in /usr/local/lib/python3.10/dist-packages (from rasterio) (1.22.4)\n",
            "Collecting snuggs>=1.4.1 (from rasterio)\n",
            "  Downloading snuggs-1.4.7-py3-none-any.whl (5.4 kB)\n",
            "Requirement already satisfied: click-plugins in /usr/local/lib/python3.10/dist-packages (from rasterio) (1.1.1)\n",
            "Requirement already satisfied: setuptools in /usr/local/lib/python3.10/dist-packages (from rasterio) (67.7.2)\n",
            "Requirement already satisfied: pyparsing>=2.1.6 in /usr/local/lib/python3.10/dist-packages (from snuggs>=1.4.1->rasterio) (3.0.9)\n",
            "Installing collected packages: snuggs, affine, rasterio\n",
            "Successfully installed affine-2.4.0 rasterio-1.3.7 snuggs-1.4.7\n"
          ]
        }
      ],
      "source": [
        "# import packages\n",
        "import os\n",
        "import matplotlib.pyplot as plt\n",
        "import numpy as np\n",
        "\n",
        "\n",
        "# import pandas and geopandas package\n",
        "import pandas as pd\n",
        "\n",
        "try:\n",
        "  import geopandas as gpd\n",
        "except: # 설치되어 있지 않을 경우 이리로 분기하여 패키지를 설치\n",
        "  !pip install geopandas \n",
        "  import geopandas as gpd\n",
        "\n",
        "# import rasterio pacakge \n",
        "try:\n",
        "  import rasterio\n",
        "except:\n",
        "  !pip install rasterio\n",
        "  import rasterio\n",
        "\n",
        "# import required functions\n",
        "from rasterio import transform\n",
        "from rasterio import features\n",
        "from rasterio.enums import Resampling\n"
      ]
    },
    {
      "cell_type": "code",
      "source": [
        "from google.colab import drive\n",
        "\n",
        "# Mount Gdrive \n",
        "# 이번에는 이미 마운트 되어 있는지 확인하고 \n",
        "if not (os.path.exists('/content/gdrive/')):\n",
        "  print(\"Mount Gdrive\")\n",
        "  drive.mount('/content/gdrive/') # 마운트 되어있지 않을 때만 다시 시도\n",
        "\n",
        "\n",
        "# set working directory\n",
        "default_path = '/content/gdrive/MyDrive/Net zero built environment/MFA workshop' # 이 경로는 사용자 마다 상이할 수 있음\n",
        " \n",
        "print(\"Change working directory to the Google Drive folder\")\n",
        "os.chdir(default_path) \n",
        "print(os.getcwd()) # print the current working directory\n"
      ],
      "metadata": {
        "colab": {
          "base_uri": "https://localhost:8080/"
        },
        "id": "lEEgWuE1yCpo",
        "outputId": "bfb1cf27-d8e9-4d2a-d44a-646a200b42cb"
      },
      "execution_count": 3,
      "outputs": [
        {
          "output_type": "stream",
          "name": "stdout",
          "text": [
            "Mount Gdrive\n",
            "Mounted at /content/gdrive/\n",
            "Change working directory to the Google Drive folder\n",
            "/content/gdrive/.shortcut-targets-by-id/1gDT-7hKMl37JnTVecJLmI9yB2rUI7rAo/Net zero built environment/MFA workshop\n"
          ]
        }
      ]
    },
    {
      "cell_type": "markdown",
      "source": [
        "## 지난 시간에 만든 건축물 용적(volume)과 구조코드를 읽어들이자. "
      ],
      "metadata": {
        "id": "uznwnlPohVIW"
      }
    },
    {
      "cell_type": "code",
      "source": [
        "# Read the rasterised Volume and Code data \n",
        "volume_out_fn = './images/volume_100m.tif'\n",
        "code_out_fn = './images/code_100m.tif'\n",
        "\n",
        "\n",
        "# 해당 파일이 없을 경우 에러가 발생하고, 그럴 때는 images 폴더 안에 해당 파일을 복사해 넣어야 함. \n",
        "with rasterio.open(volume_out_fn) as src:\n",
        "    print(src.__class__) \n",
        "    print(src.profile) # meta information 출력\n",
        "    volume_img = src.read(1)  # 읽어들인 이미지는 rasterio 패키지의 DatasetReader클래스인데, \n",
        "                              # 우리는 ndarray 형태의 자료만 사용\n",
        "\n",
        "\n",
        "with rasterio.open(code_out_fn) as src:\n",
        "    print(src.profile)\n",
        "    code_img = src.read(1) \n",
        "\n"
      ],
      "metadata": {
        "colab": {
          "base_uri": "https://localhost:8080/"
        },
        "id": "Z4CJjE2y0HFZ",
        "outputId": "f2038cb0-70d6-4692-9525-cf945c06db55"
      },
      "execution_count": 4,
      "outputs": [
        {
          "output_type": "stream",
          "name": "stdout",
          "text": [
            "<class 'rasterio.io.DatasetReader'>\n",
            "{'driver': 'GTiff', 'dtype': 'float64', 'nodata': None, 'width': 67, 'height': 75, 'count': 1, 'crs': CRS.from_epsg(5179), 'transform': Affine(100.0, 0.0, 951300.0,\n",
            "       0.0, -100.0, 1959400.0), 'blockysize': 15, 'tiled': False, 'compress': 'lzw', 'interleave': 'band'}\n",
            "{'driver': 'GTiff', 'dtype': 'uint8', 'nodata': None, 'width': 67, 'height': 75, 'count': 1, 'crs': CRS.from_epsg(5179), 'transform': Affine(100.0, 0.0, 951300.0,\n",
            "       0.0, -100.0, 1959400.0), 'blockysize': 75, 'tiled': False, 'compress': 'lzw', 'interleave': 'band'}\n"
          ]
        }
      ]
    },
    {
      "cell_type": "code",
      "source": [
        " ## Print the class name \n",
        "volume_img.__class__ #  ndarray object. \n",
        "# code_img.__class__ #   ndarray object. \n",
        " "
      ],
      "metadata": {
        "colab": {
          "base_uri": "https://localhost:8080/"
        },
        "id": "hBo_lV0plV0j",
        "outputId": "274d6811-7ab7-49bc-f916-f7dca134cda8"
      },
      "execution_count": 5,
      "outputs": [
        {
          "output_type": "execute_result",
          "data": {
            "text/plain": [
              "numpy.ndarray"
            ]
          },
          "metadata": {},
          "execution_count": 5
        }
      ]
    },
    {
      "cell_type": "code",
      "source": [
        "# plot the sturctural code data\n",
        "plt.imshow(code_img, cmap='Accent')\n",
        "plt.colorbar()\n",
        "plt.title('Structure Code')\n",
        "plt.xlabel('Column #')\n",
        "plt.ylabel('Row #')"
      ],
      "metadata": {
        "id": "zdBgLCJF6xcZ",
        "colab": {
          "base_uri": "https://localhost:8080/",
          "height": 489
        },
        "outputId": "c39ddca1-9a46-4d3d-a7f0-354e9e55dfd7"
      },
      "execution_count": 6,
      "outputs": [
        {
          "output_type": "execute_result",
          "data": {
            "text/plain": [
              "Text(0, 0.5, 'Row #')"
            ]
          },
          "metadata": {},
          "execution_count": 6
        },
        {
          "output_type": "display_data",
          "data": {
            "text/plain": [
              "<Figure size 640x480 with 2 Axes>"
            ],
            "image/png": "[encoded data removed]"
          },
          "metadata": {}
        }
      ]
    },
    {
      "cell_type": "code",
      "source": [
        "# Dimension\n",
        "code_img.shape  # 75 x 67 \n",
        "\n",
        "# Frequency table\n",
        "unique, counts = np.unique(code_img, return_counts=True)\n",
        "print(dict(zip(unique, counts))) # 코드 별 빈도수. 1 ha 래스터 이니 그대로 ha로 볼 수도 있음. E.g. 676 ha = 6.76 km2\n",
        "\n",
        "### \n",
        "# 0: NA\n",
        "# 11: Brick\n",
        "# 12: Block\n",
        "# 19: Other masonry structure (기타조적구조)\n",
        "# 21: Reinforced concrete\n",
        "# 31: Steel (일반철골구조)\n",
        "# 40: Steel reinforced concrete\n",
        "# 41: Steel concrete (철골콘크리트)\n",
        "# 42: Steel reinforced concrete (== 40?)\n",
        "# 51: Wood (일반목구조)\n",
        "# 99: Other \n"
      ],
      "metadata": {
        "colab": {
          "base_uri": "https://localhost:8080/"
        },
        "id": "ge5zo-dgh8qC",
        "outputId": "52c5d21d-a862-4a76-bba1-31abff592f94"
      },
      "execution_count": 7,
      "outputs": [
        {
          "output_type": "stream",
          "name": "stdout",
          "text": [
            "{0: 3714, 11: 327, 12: 22, 19: 1, 21: 676, 31: 7, 40: 1, 41: 1, 42: 16, 51: 259, 99: 1}\n"
          ]
        }
      ]
    },
    {
      "cell_type": "markdown",
      "source": [
        "구조 코드별로 건축물 용적을 나누고, MI 원단위를 적용.. 하려고 했는데 MI가 면적 단위인 것을 알게 됨. \n",
        "\n",
        "데이터에 연면적 자료가 있으니 다시 그것을 처리하도록 하자. \n"
      ],
      "metadata": {
        "id": "n05siUAlhzm9"
      }
    },
    {
      "cell_type": "code",
      "source": [
        "# Gross area data for Jongno-gu (Feb 2023)\n",
        "path_data_grossarea = \"Data/Data_100m/Jongno-gu/(B100)국토통계_건축물-연면적-(격자) 100M_서울특별시 종로구_202303/nlsp_021002006.shp\"\n",
        "grossarea_gdf = gpd.read_file(path_data_grossarea, encoding = \"UTF-8\")\n",
        "print(grossarea_gdf.columns) # 컬럼 이름 \n",
        "print(grossarea_gdf.head()) # 이번 경우에는 lbl과 val에 같은 값이 들어있네요"
      ],
      "metadata": {
        "colab": {
          "base_uri": "https://localhost:8080/"
        },
        "id": "J_gmjL0rofo6",
        "outputId": "4a2cc132-c33e-46ac-aa59-602c1e9d45d7"
      },
      "execution_count": 8,
      "outputs": [
        {
          "output_type": "stream",
          "name": "stdout",
          "text": [
            "Index(['gid', 'lbl', 'val', 'geometry'], dtype='object')\n",
            "        gid      lbl      val  \\\n",
            "0  다사551532   120.21   120.21   \n",
            "1  다사564526   610.47   610.47   \n",
            "2  다사539568  2793.05  2793.05   \n",
            "3  다사526570   458.74   458.74   \n",
            "4  다사548528  1690.90  1690.90   \n",
            "\n",
            "                                            geometry  \n",
            "0  POLYGON ((955100.000 1953200.000, 955100.000 1...  \n",
            "1  POLYGON ((956400.000 1952600.000, 956400.000 1...  \n",
            "2  POLYGON ((953900.000 1956800.000, 953900.000 1...  \n",
            "3  POLYGON ((952600.000 1957000.000, 952600.000 1...  \n",
            "4  POLYGON ((954800.000 1952800.000, 954800.000 1...  \n"
          ]
        }
      ]
    },
    {
      "cell_type": "code",
      "source": [
        "# Create a base 100 m grid \n",
        "dummy_shp = grossarea_gdf # 여기서 원본 데이터를 dummy에 할당, crs 정보도 옮겨옴\n",
        "bbox = dummy_shp.total_bounds # 벡터 데이터의 바운딩 박스를 래스터 만들 때 쓰려고 bbox 변수에 할당\n",
        "xmin, ymin, xmax, ymax = bbox # bbox의 정보를 4개의 double 변수에 옮김. 파이썬 스타일.. \n",
        "                              # 오른쪽 변수에서 리턴되는 값이 double형 네 개이고 그게 xmin 등 4개의 실수형 변수 값으로 됨\n",
        "\n",
        "print(bbox.__class__) # Numpy N-d array 클래스이고\n",
        "print(bbox.shape)     # 실수형 자료 4개를 가지고 있음\n",
        "print(xmin.__class__) # 받은 xmin등은 Numpy Float64. 64비트 플로트 정수. Float는 Double 보다 메모리를 아껴서 저장하는 실수형 타입.. \n",
        "\n",
        "res = 100 # desired resolution\n",
        "w = (xmax - xmin) // res \n",
        "h = (ymax - ymin) // res\n",
        "\n",
        "# R에선 사실 \n",
        "# raster_out = rasterize(polygon, dummy_raster_grid) 식으로 간단히 처리하는데, Python이\n",
        "# 공간 자료 처리가 좀 더 low-level에서 적어줘야 하는 듯. 간단한 방식이 없는 듯.. \n",
        "# 아래와 같이 메타데이터 리스트를 만들어 주고.. \n",
        "\n",
        "# float type for continuous data\n",
        "out_meta_float64 = {\n",
        "    \"driver\": \"GTiff\",\n",
        "    \"dtype\": \"float64\", # 64bit float\n",
        "    \"height\": h,\n",
        "    \"width\": w,\n",
        "    \"count\": 1,\n",
        "    \"crs\": dummy_shp.crs,\n",
        "    \"transform\": transform.from_bounds(xmin, ymin, xmax, ymax, w, h),\n",
        "    \"compress\": 'lzw'\n",
        "}\n",
        "\n",
        "grossarea_out_fn = './images/grossarea_100m.tif'\n",
        " \n",
        "# 변환해서 파일에 쓰는 식으로 처리. 불필요하게 복잡한 감이 있다.. 이후 많이 사용하게 되면 함수화 해야 함.\n",
        "\n",
        "# convert height\n",
        "with rasterio.open(grossarea_out_fn, 'w+', **out_meta_float64) as out:\n",
        "    out_arr = out.read(1)\n",
        "\n",
        "    # this is where we create a generator of geom, value pairs to use in rasterizing\n",
        "    shapes = ((geom,value) for geom, value in zip(grossarea_gdf.geometry, grossarea_gdf.val))\n",
        "\n",
        "    burned = features.rasterize(shapes=shapes, fill=0, out=out_arr, transform=out.transform)\n",
        "    out.write_band(1, burned)\n",
        "\n"
      ],
      "metadata": {
        "id": "olgqPIsSpeZf"
      },
      "execution_count": null,
      "outputs": []
    },
    {
      "cell_type": "code",
      "source": [
        "# read the outcome rasters\n",
        "grossarea_100m_r = rasterio.open('images/grossarea_100m.tif')\n",
        "print(grossarea_100m_r)\n",
        "\n",
        "# Plot the image\n",
        "grossarea_100m_img = grossarea_100m_r.read(1)\n",
        " \n",
        "plt.imshow(grossarea_100m_img, cmap='pink')\n",
        "plt.colorbar()\n",
        "plt.title('Gross area (m2/ha)') # 이 데이터가 100 m * 100 m 래스터이기 때문에 단위는 m2/ha \n",
        "plt.show()  \n",
        "\n",
        "plt.imshow(grossarea_100m_img / 1E4  , cmap='pink')\n",
        "plt.colorbar()\n",
        "plt.title('Gross area (ha/ha)') # ha/ha 로 해 봄\n",
        "plt.show()  "
      ],
      "metadata": {
        "id": "ws1mUUg8p-sj"
      },
      "execution_count": null,
      "outputs": []
    },
    {
      "cell_type": "code",
      "source": [
        "# Gross-area by Structure\n",
        "grossarea_21 = grossarea_100m_img * (code_img == 21) \n",
        "\n",
        "# sum 을 하면 에러.. nansum을 해야 nan 값을 제외하고 합산\n",
        "print(np.nansum(grossarea_21)) # m2\n",
        "\n",
        "print(\"Gross area (All structure) = \" + str(np.nansum(grossarea_100m_img)/1E4) + \" (ha)\")  # total gross area (ha)\n",
        "print(\"Gross area (Reinforced concerete; Code=21) = \" + str(np.nansum(grossarea_21)/1E4) + \" (ha)\")  # only for Code=21 (ha)\n",
        "\n",
        " "
      ],
      "metadata": {
        "id": "b5kT3CLYG1HK"
      },
      "execution_count": null,
      "outputs": []
    },
    {
      "cell_type": "code",
      "source": [
        "nrow = 1\n",
        "ncol = 2\n",
        "\n",
        "\n",
        "plt.figure(figsize=(10,4))\n",
        "plt.subplot(nrow, ncol, 1)\n",
        "plt.imshow(grossarea_100m_img,  cmap='YlGnBu', vmin=0, vmax=1.4E5)\n",
        "plt.colorbar()\n",
        "plt.title('Gross area (m2)')\n",
        "\n",
        "plt.subplot(nrow, ncol, 2)\n",
        "plt.imshow(grossarea_21,  cmap='YlGnBu', vmin=0, vmax=1.4E5)\n",
        "plt.colorbar()\n",
        "plt.title('Gross area (Reinforced concrete) (m2)')\n",
        "\n",
        "\n",
        "plt.tight_layout()\n",
        "plt.show()\n",
        "\n"
      ],
      "metadata": {
        "id": "uuhiWshv9P7A"
      },
      "execution_count": null,
      "outputs": []
    },
    {
      "cell_type": "code",
      "source": [
        "# Read MI table\n",
        "\n",
        "# 이름으로 불러오기\n",
        "# pd.read_excel('경로/파일명.xlsx', sheet_name = '시트명')\n",
        "MI_tb = pd.read_excel('Data/MI by structure_v1.xlsx', sheet_name = 'MI')\n",
        "# MI_tb.head()\n",
        "print(MI_tb) # R과 파이썬의 큰 차이중 하나는 R은 통계학자가 만들었다 보니 NA와 NaN의 구분이 명확. 파이썬은 좀 애매.. pandas에서 처리하긴 하는데 정확히 구분하지 않을 때가 많음. \n",
        " "
      ],
      "metadata": {
        "id": "btADAHMkivwm"
      },
      "execution_count": null,
      "outputs": []
    },
    {
      "cell_type": "code",
      "source": [
        "MI_tb = MI_tb.fillna(0) # NaN을 0으로 바꿔주자\n",
        "# 혹은 이런 식으로 컬럼마다 할 수도 있음\n",
        "# MI_tb['DataFrame Column'] = MI_tb['DataFrame Column'].fillna(0)\n",
        "\n",
        "print(MI_tb)\n"
      ],
      "metadata": {
        "id": "pacdn7Hsve1U"
      },
      "execution_count": null,
      "outputs": []
    },
    {
      "cell_type": "code",
      "source": [
        "MI_tb.Block_kgm2[1] * np.array([1.0,2.0])"
      ],
      "metadata": {
        "id": "J_K7LRlFfpS1"
      },
      "execution_count": null,
      "outputs": []
    },
    {
      "cell_type": "code",
      "source": [
        "# 철근콘크리트조의 자재량을 계산해보자 \n",
        "mask_21 = MI_tb.Code == 21\n",
        "MI_rc = MI_tb.loc[mask_21,:] # slicing pandas dataframe\n",
        "print(MI_rc)\n",
        " \n",
        "# Pandas dataframe에서 슬라이스된 값을 곱할 때 에러가 났음. Numpy array로 변환하여 해결\n",
        "# ref: https://stackoverflow.com/questions/63220314/typeerror-cant-multiply-sequence-by-non-int-of-type-numpy-float64-in-machine\n",
        "concrete_21_m3 = grossarea_21 * np.array(MI_rc.Concrete_m3m2  ) \n",
        "\n",
        "# 위의 작업을 한 번에 하려면\n",
        "concrete_21_m3 = grossarea_21 * np.array(MI_tb.loc[MI_tb.Code == 21,'Concrete_m3m2']  )\n",
        "\n",
        "\n",
        "rebar_21_kg = grossarea_21  * np.array(MI_tb.loc[MI_tb.Code == 21,'Rebar_kgm2']  )\n"
      ],
      "metadata": {
        "id": "R15-xaBRvmDY"
      },
      "execution_count": null,
      "outputs": []
    },
    {
      "cell_type": "code",
      "source": [
        "plt.figure(figsize=(10,4))\n",
        "plt.subplot(nrow, ncol, 1)\n",
        "plt.imshow(concrete_21_m3,  cmap='pink')\n",
        "plt.colorbar()\n",
        "plt.title('Concrete (m3) (Reinforced concrete)') \n",
        "\n",
        "plt.subplot(nrow, ncol, 2)\n",
        "plt.imshow(rebar_21_kg /1E3,  cmap='pink')\n",
        "plt.colorbar()\n",
        "plt.title('Rebar (metric ton) (Reinforced concrete)')\n",
        "\n",
        "\n",
        "plt.tight_layout()\n",
        "plt.show()\n"
      ],
      "metadata": {
        "id": "7SU8UBXHvnN5"
      },
      "execution_count": null,
      "outputs": []
    },
    {
      "cell_type": "markdown",
      "source": [],
      "metadata": {
        "id": "eBDDIZR7xV2W"
      }
    },
    {
      "cell_type": "code",
      "source": [
        "print(\"Concrete for Reinforced concrete  = \" + str(np.nansum(concrete_21_m3)) + \" (m3)\")  \n",
        "print(\"Rebar for Reinforced concerete = \" + str(np.nansum(rebar_21_kg)/1E3) + \" (ton)\")   \n"
      ],
      "metadata": {
        "id": "IfloeMj9SMi8"
      },
      "execution_count": null,
      "outputs": []
    },
    {
      "cell_type": "code",
      "source": [
        "# Save the outcomes to file\n",
        "\n",
        "concrete_code21_out_fn = './images/Stock_Code21_Concrete_100m.tif'\n",
        "\n",
        "with rasterio.open(concrete_code21_out_fn, 'w+', **out_meta_float64) as dst:\n",
        "    dst.write_band(1, concrete_21_m3)\n",
        "\n",
        "rebar_code21_out_fn = './images/Stock_Code21_Rebar_100m.tif'\n",
        "\n",
        "with rasterio.open(rebar_code21_out_fn, 'w+', **out_meta_float64) as dst:\n",
        "    dst.write_band(1, rebar_21_kg)\n",
        "\n",
        "\n",
        "os.listdir('images')"
      ],
      "metadata": {
        "colab": {
          "base_uri": "https://localhost:8080/",
          "height": 232
        },
        "id": "z7IaiGo0_552",
        "outputId": "d39c7e19-0c02-47a9-941f-943cc6eff603"
      },
      "execution_count": 1,
      "outputs": [
        {
          "output_type": "error",
          "ename": "NameError",
          "evalue": "ignored",
          "traceback": [
            "\u001b[0;31m---------------------------------------------------------------------------\u001b[0m",
            "\u001b[0;31mNameError\u001b[0m                                 Traceback (most recent call last)",
            "\u001b[0;32m<ipython-input-1-c81b5fec1fd0>\u001b[0m in \u001b[0;36m<cell line: 5>\u001b[0;34m()\u001b[0m\n\u001b[1;32m      3\u001b[0m \u001b[0mconcrete_code21_out_fn\u001b[0m \u001b[0;34m=\u001b[0m \u001b[0;34m'./images/Stock_Code21_Concrete_100m.tif'\u001b[0m\u001b[0;34m\u001b[0m\u001b[0;34m\u001b[0m\u001b[0m\n\u001b[1;32m      4\u001b[0m \u001b[0;34m\u001b[0m\u001b[0m\n\u001b[0;32m----> 5\u001b[0;31m \u001b[0;32mwith\u001b[0m \u001b[0mrasterio\u001b[0m\u001b[0;34m.\u001b[0m\u001b[0mopen\u001b[0m\u001b[0;34m(\u001b[0m\u001b[0mconcrete_code21_out_fn\u001b[0m\u001b[0;34m,\u001b[0m \u001b[0;34m'w+'\u001b[0m\u001b[0;34m,\u001b[0m \u001b[0;34m**\u001b[0m\u001b[0mout_meta_float64\u001b[0m\u001b[0;34m)\u001b[0m \u001b[0;32mas\u001b[0m \u001b[0mdst\u001b[0m\u001b[0;34m:\u001b[0m\u001b[0;34m\u001b[0m\u001b[0;34m\u001b[0m\u001b[0m\n\u001b[0m\u001b[1;32m      6\u001b[0m     \u001b[0mdst\u001b[0m\u001b[0;34m.\u001b[0m\u001b[0mwrite_band\u001b[0m\u001b[0;34m(\u001b[0m\u001b[0;36m1\u001b[0m\u001b[0;34m,\u001b[0m \u001b[0mconcrete_21_m3\u001b[0m\u001b[0;34m)\u001b[0m\u001b[0;34m\u001b[0m\u001b[0;34m\u001b[0m\u001b[0m\n\u001b[1;32m      7\u001b[0m \u001b[0;34m\u001b[0m\u001b[0m\n",
            "\u001b[0;31mNameError\u001b[0m: name 'rasterio' is not defined"
          ]
        }
      ]
    },
    {
      "cell_type": "markdown",
      "source": [
        "MI와 Embedded Carbon사이의 관계식을 엑셀에서 읽어들이고 내재탄소량 계산"
      ],
      "metadata": {
        "id": "fR_EQSabh82j"
      }
    },
    {
      "cell_type": "markdown",
      "source": [],
      "metadata": {
        "id": "r81To8XuiGPF"
      }
    },
    {
      "cell_type": "code",
      "source": [],
      "metadata": {
        "id": "giumicFfiGpt"
      },
      "execution_count": null,
      "outputs": []
    },
    {
      "cell_type": "markdown",
      "source": [
        "MI와 내재탄소량 플로팅"
      ],
      "metadata": {
        "id": "1HaiVr1UiG38"
      }
    }
  ]
}