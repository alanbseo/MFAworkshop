{
  "nbformat": 4,
  "nbformat_minor": 0,
  "metadata": {
    "colab": {
      "provenance": [],
      "authorship_tag": "ABX9TyNM4+INDUrXqYfigv09U49S",
      "include_colab_link": true
    },
    "kernelspec": {
      "name": "python3",
      "display_name": "Python 3"
    },
    "language_info": {
      "name": "python"
    }
  },
  "cells": [
    {
      "cell_type": "markdown",
      "metadata": {
        "id": "view-in-github",
        "colab_type": "text"
      },
      "source": [
        "<a href=\"https://colab.research.google.com/github/alanbseo/MFAworkshop/blob/main/MFA3_2_Exercise.ipynb\" target=\"_parent\"><img src=\"https://colab.research.google.com/assets/colab-badge.svg\" alt=\"Open In Colab\"/></a>"
      ]
    },
    {
      "cell_type": "markdown",
      "source": [
        "과제를 위해 공통으로 실행해야 하는 부분을 첫 번쩨 셀에 정리"
      ],
      "metadata": {
        "id": "Sx1QtPBDUQ4d"
      }
    },
    {
      "cell_type": "code",
      "execution_count": null,
      "metadata": {
        "colab": {
          "base_uri": "https://localhost:8080/"
        },
        "id": "JCnJeRwVUuV3",
        "outputId": "23064890-742a-4a36-89c8-83e8d7d348dc"
      },
      "outputs": [
        {
          "output_type": "stream",
          "name": "stdout",
          "text": [
            "Change working directory to the Google Drive folder\n",
            "/content/gdrive/.shortcut-targets-by-id/1gDT-7hKMl37JnTVecJLmI9yB2rUI7rAo/Net zero built environment/MFA workshop\n",
            "<class 'numpy.ndarray'>\n",
            "(4,)\n",
            "<class 'numpy.float64'>\n"
          ]
        }
      ],
      "source": [
        "# import packages\n",
        "import os\n",
        "import matplotlib.pyplot as plt\n",
        "import numpy as np\n",
        "\n",
        "\n",
        "# import pandas and geopandas package\n",
        "import pandas as pd\n",
        "\n",
        "try:\n",
        "  import geopandas as gpd\n",
        "except: # 설치되어 있지 않을 경우 이리로 분기하여 패키지를 설치\n",
        "  !pip install geopandas\n",
        "  import geopandas as gpd\n",
        "\n",
        "# import rasterio pacakge\n",
        "try:\n",
        "  import rasterio\n",
        "except:\n",
        "  !pip install rasterio\n",
        "  import rasterio\n",
        "\n",
        "# import required functions\n",
        "from rasterio import transform\n",
        "from rasterio import features\n",
        "from rasterio.enums import Resampling\n",
        "\n",
        "from google.colab import drive\n",
        "\n",
        "# Mount Gdrive\n",
        "# 이번에는 이미 마운트 되어 있는지 확인하고\n",
        "if not (os.path.exists('/content/gdrive/')):\n",
        "  print(\"Mount Gdrive\")\n",
        "  drive.mount('/content/gdrive/') # 마운트 되어있지 않을 때만 다시 시도\n",
        "\n",
        "\n",
        "# set working directory\n",
        "default_path = '/content/gdrive/MyDrive/Net zero built environment/MFA workshop' # 이 경로는 사용자 마다 상이할 수 있음\n",
        "\n",
        "print(\"Change working directory to the Google Drive folder\")\n",
        "os.chdir(default_path)\n",
        "print(os.getcwd()) # print the current working directory\n",
        "\n",
        "\n",
        "\n",
        "# Gross area data for Jongno-gu (Feb 2023)\n",
        "path_data_grossarea = \"Data/Data_100m/Jongno-gu/(B100)국토통계_건축물-연면적-(격자) 100M_서울특별시 종로구_202303/nlsp_021002006.shp\"\n",
        "grossarea_gdf = gpd.read_file(path_data_grossarea, encoding = \"UTF-8\")\n",
        "\n",
        "# Create a base 100 m grid\n",
        "dummy_shp = grossarea_gdf # 여기서 원본 데이터를 dummy에 할당, crs 정보도 옮겨옴\n",
        "bbox = dummy_shp.total_bounds # 벡터 데이터의 바운딩 박스를 래스터 만들 때 쓰려고 bbox 변수에 할당\n",
        "xmin, ymin, xmax, ymax = bbox # bbox의 정보를 4개의 double 변수에 옮김. 파이썬 스타일..\n",
        "                              # 오른쪽 변수에서 리턴되는 값이 double형 네 개이고 그게 xmin 등 4개의 실수형 변수 값으로 됨\n",
        "\n",
        "print(bbox.__class__) # Numpy N-d array 클래스이고\n",
        "print(bbox.shape)     # 실수형 자료 4개를 가지고 있음\n",
        "print(xmin.__class__) # 받은 xmin등은 Numpy Float64. 64비트 플로트 정수. Float는 Double 보다 메모리를 아껴서 저장하는 실수형 타입..\n",
        "\n",
        "res = 100 # desired resolution\n",
        "w = (xmax - xmin) // res\n",
        "h = (ymax - ymin) // res\n",
        "\n",
        "\n",
        "# float type for continuous data\n",
        "out_meta_float64 = {\n",
        "    \"driver\": \"GTiff\",\n",
        "    \"dtype\": \"float64\", # 64bit float\n",
        "    \"height\": h,\n",
        "    \"width\": w,\n",
        "    \"count\": 1,\n",
        "    \"crs\": dummy_shp.crs,\n",
        "    \"transform\": transform.from_bounds(xmin, ymin, xmax, ymax, w, h),\n",
        "    \"compress\": 'lzw'\n",
        "}\n",
        "\n",
        "\n",
        "\n",
        "# Read the rasterised Volume and Code data\n",
        "code_out_fn = './images/code_100m.tif'\n",
        "\n",
        "with rasterio.open(code_out_fn) as src:\n",
        "    #print(src.profile)\n",
        "    code_img = src.read(1)\n",
        "\n",
        "# read the outcome rasters\n",
        "grossarea_100m_r = rasterio.open('images/grossarea_100m.tif')\n",
        "grossarea_100m_img = grossarea_100m_r.read(1)\n",
        "\n",
        "\n"
      ]
    },
    {
      "cell_type": "code",
      "source": [
        "MI_tb = pd.read_excel('Data/MI by structure_v2.xlsx', sheet_name = 'MI')\n",
        "MI_tb = MI_tb.fillna(0) # NaN을 0으로 바꿔주자\n",
        "\n",
        "EC_tb = pd.read_excel('Data/MI by structure_v2.xlsx', sheet_name = 'GWP')\n",
        "EC_tb = EC_tb.fillna(0) # NaN을 0으로 바꿔주자"
      ],
      "metadata": {
        "id": "J4aUskHvVYdP"
      },
      "execution_count": null,
      "outputs": []
    },
    {
      "cell_type": "code",
      "source": [
        "\n",
        "\n"
      ],
      "metadata": {
        "id": "pv1mIZdOVdU-"
      },
      "execution_count": null,
      "outputs": []
    }
  ]
}