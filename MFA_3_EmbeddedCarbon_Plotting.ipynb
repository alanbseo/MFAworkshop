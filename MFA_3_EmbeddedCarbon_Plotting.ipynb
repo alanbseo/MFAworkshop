{
  "nbformat": 4,
  "nbformat_minor": 0,
  "metadata": {
    "colab": {
      "provenance": [],
      "include_colab_link": true
    },
    "kernelspec": {
      "name": "python3",
      "display_name": "Python 3"
    },
    "language_info": {
      "name": "python"
    }
  },
  "cells": [
    {
      "cell_type": "markdown",
      "metadata": {
        "id": "view-in-github",
        "colab_type": "text"
      },
      "source": [
        "<a href=\"https://colab.research.google.com/github/alanbseo/MFAworkshop/blob/main/MFA_3_EmbeddedCarbon_Plotting.ipynb\" target=\"_parent\"><img src=\"https://colab.research.google.com/assets/colab-badge.svg\" alt=\"Open In Colab\"/></a>"
      ]
    },
    {
      "cell_type": "markdown",
      "source": [
        "# MFA workshop 세 번째 세션. 이번에는 Material to Carbon 테이블을 읽고 Embedded Carbon을 계산해 보도록 하자.\n",
        "\n",
        "## Colab 기본 설정\n"
      ],
      "metadata": {
        "id": "g0YY8cYogesz"
      }
    },
    {
      "cell_type": "code",
      "execution_count": null,
      "metadata": {
        "id": "VrJKP7IRzhjR",
        "colab": {
          "base_uri": "https://localhost:8080/"
        },
        "outputId": "f29dd09e-7ca6-4ab4-ab5d-a333130b792c"
      },
      "outputs": [
        {
          "output_type": "stream",
          "name": "stdout",
          "text": [
            "Collecting rasterio\n",
            "  Downloading rasterio-1.3.8-cp310-cp310-manylinux_2_17_x86_64.manylinux2014_x86_64.whl (21.3 MB)\n",
            "\u001b[2K     \u001b[90m━━━━━━━━━━━━━━━━━━━━━━━━━━━━━━━━━━━━━━━━\u001b[0m \u001b[32m21.3/21.3 MB\u001b[0m \u001b[31m65.2 MB/s\u001b[0m eta \u001b[36m0:00:00\u001b[0m\n",
            "\u001b[?25hCollecting affine (from rasterio)\n",
            "  Downloading affine-2.4.0-py3-none-any.whl (15 kB)\n",
            "Requirement already satisfied: attrs in /usr/local/lib/python3.10/dist-packages (from rasterio) (23.1.0)\n",
            "Requirement already satisfied: certifi in /usr/local/lib/python3.10/dist-packages (from rasterio) (2023.5.7)\n",
            "Requirement already satisfied: click>=4.0 in /usr/local/lib/python3.10/dist-packages (from rasterio) (8.1.3)\n",
            "Requirement already satisfied: cligj>=0.5 in /usr/local/lib/python3.10/dist-packages (from rasterio) (0.7.2)\n",
            "Requirement already satisfied: numpy>=1.18 in /usr/local/lib/python3.10/dist-packages (from rasterio) (1.22.4)\n",
            "Collecting snuggs>=1.4.1 (from rasterio)\n",
            "  Downloading snuggs-1.4.7-py3-none-any.whl (5.4 kB)\n",
            "Requirement already satisfied: click-plugins in /usr/local/lib/python3.10/dist-packages (from rasterio) (1.1.1)\n",
            "Requirement already satisfied: setuptools in /usr/local/lib/python3.10/dist-packages (from rasterio) (67.7.2)\n",
            "Requirement already satisfied: pyparsing>=2.1.6 in /usr/local/lib/python3.10/dist-packages (from snuggs>=1.4.1->rasterio) (3.1.0)\n",
            "Installing collected packages: snuggs, affine, rasterio\n",
            "Successfully installed affine-2.4.0 rasterio-1.3.8 snuggs-1.4.7\n"
          ]
        }
      ],
      "source": [
        "# import packages\n",
        "import os\n",
        "import matplotlib.pyplot as plt\n",
        "import numpy as np\n",
        "\n",
        "\n",
        "# import pandas and geopandas package\n",
        "import pandas as pd\n",
        "\n",
        "try:\n",
        "  import geopandas as gpd\n",
        "except: # 설치되어 있지 않을 경우 이리로 분기하여 패키지를 설치\n",
        "  !pip install geopandas\n",
        "  import geopandas as gpd\n",
        "\n",
        "# import rasterio pacakge\n",
        "try:\n",
        "  import rasterio\n",
        "except:\n",
        "  !pip install rasterio\n",
        "  import rasterio\n",
        "\n",
        "# import required functions\n",
        "from rasterio import transform\n",
        "from rasterio import features\n",
        "from rasterio.enums import Resampling\n"
      ]
    },
    {
      "cell_type": "code",
      "source": [
        "from google.colab import drive\n",
        "\n",
        "# Mount Gdrive\n",
        "# 이번에는 이미 마운트 되어 있는지 확인하고\n",
        "if not (os.path.exists('/content/gdrive/')):\n",
        "  print(\"Mount Gdrive\")\n",
        "  drive.mount('/content/gdrive/') # 마운트 되어있지 않을 때만 다시 시도\n",
        "\n",
        "\n",
        "# set working directory\n",
        "default_path = '/content/gdrive/MyDrive/Net zero built environment/MFA workshop' # 이 경로는 사용자 마다 상이할 수 있음\n",
        "\n",
        "print(\"Change working directory to the Google Drive folder\")\n",
        "os.chdir(default_path)\n",
        "print(os.getcwd()) # print the current working directory\n"
      ],
      "metadata": {
        "colab": {
          "base_uri": "https://localhost:8080/"
        },
        "id": "lEEgWuE1yCpo",
        "outputId": "51a42901-4ccd-4829-ec88-9c6f40685273"
      },
      "execution_count": null,
      "outputs": [
        {
          "output_type": "stream",
          "name": "stdout",
          "text": [
            "Mount Gdrive\n",
            "Mounted at /content/gdrive/\n",
            "Change working directory to the Google Drive folder\n",
            "/content/gdrive/.shortcut-targets-by-id/1gDT-7hKMl37JnTVecJLmI9yB2rUI7rAo/Net zero built environment/MFA workshop\n"
          ]
        }
      ]
    },
    {
      "cell_type": "markdown",
      "source": [
        "## 지난 시간에 만든 건축면적(gross area)와 구조코드를 읽어들이자."
      ],
      "metadata": {
        "id": "uznwnlPohVIW"
      }
    },
    {
      "cell_type": "code",
      "source": [
        "# Read the rasterised Volume and Code data\n",
        "code_out_fn = './images/code_100m.tif'\n",
        "\n",
        "with rasterio.open(code_out_fn) as src:\n",
        "    #print(src.profile)\n",
        "    code_img = src.read(1)\n",
        "\n",
        "###\n",
        "# 0: NA\n",
        "# 11: Brick\n",
        "# 12: Block\n",
        "# 19: Other masonry structure (기타조적구조)\n",
        "# 21: Reinforced concrete\n",
        "# 31: Steel (일반철골구조)\n",
        "# 40: Steel reinforced concrete\n",
        "# 41: Steel concrete (철골콘크리트)\n",
        "# 42: Steel reinforced concrete (== 40?)\n",
        "# 51: Wood (일반목구조)\n",
        "# 99: Other"
      ],
      "metadata": {
        "id": "Z4CJjE2y0HFZ"
      },
      "execution_count": null,
      "outputs": []
    },
    {
      "cell_type": "code",
      "source": [
        "# Gross area data for Jongno-gu (Feb 2023)\n",
        "path_data_grossarea = \"Data/Data_100m/Jongno-gu/(B100)국토통계_건축물-연면적-(격자) 100M_서울특별시 종로구_202303/nlsp_021002006.shp\"\n",
        "grossarea_gdf = gpd.read_file(path_data_grossarea, encoding = \"UTF-8\")\n",
        "print(grossarea_gdf.columns) # 컬럼 이름\n",
        "print(grossarea_gdf.head()) # 이번 경우에는 lbl과 val에 같은 값이 들어있네요"
      ],
      "metadata": {
        "colab": {
          "base_uri": "https://localhost:8080/"
        },
        "id": "J_gmjL0rofo6",
        "outputId": "ee6b4069-7618-454c-c7eb-9386e0bd1637"
      },
      "execution_count": null,
      "outputs": [
        {
          "output_type": "stream",
          "name": "stdout",
          "text": [
            "Index(['gid', 'lbl', 'val', 'geometry'], dtype='object')\n",
            "        gid      lbl      val  \\\n",
            "0  다사551532   120.21   120.21   \n",
            "1  다사564526   610.47   610.47   \n",
            "2  다사539568  2793.05  2793.05   \n",
            "3  다사526570   458.74   458.74   \n",
            "4  다사548528  1690.90  1690.90   \n",
            "\n",
            "                                            geometry  \n",
            "0  POLYGON ((955100.000 1953200.000, 955100.000 1...  \n",
            "1  POLYGON ((956400.000 1952600.000, 956400.000 1...  \n",
            "2  POLYGON ((953900.000 1956800.000, 953900.000 1...  \n",
            "3  POLYGON ((952600.000 1957000.000, 952600.000 1...  \n",
            "4  POLYGON ((954800.000 1952800.000, 954800.000 1...  \n"
          ]
        }
      ]
    },
    {
      "cell_type": "code",
      "source": [
        "# Create a base 100 m grid\n",
        "dummy_shp = grossarea_gdf # 여기서 원본 데이터를 dummy에 할당, crs 정보도 옮겨옴\n",
        "bbox = dummy_shp.total_bounds # 벡터 데이터의 바운딩 박스를 래스터 만들 때 쓰려고 bbox 변수에 할당\n",
        "xmin, ymin, xmax, ymax = bbox # bbox의 정보를 4개의 double 변수에 옮김. 파이썬 스타일..\n",
        "                              # 오른쪽 변수에서 리턴되는 값이 double형 네 개이고 그게 xmin 등 4개의 실수형 변수 값으로 됨\n",
        "\n",
        "print(bbox.__class__) # Numpy N-d array 클래스이고\n",
        "print(bbox.shape)     # 실수형 자료 4개를 가지고 있음\n",
        "print(xmin.__class__) # 받은 xmin등은 Numpy Float64. 64비트 플로트 정수. Float는 Double 보다 메모리를 아껴서 저장하는 실수형 타입..\n",
        "\n",
        "res = 100 # desired resolution\n",
        "w = (xmax - xmin) // res\n",
        "h = (ymax - ymin) // res\n",
        "\n",
        "# R에선 사실\n",
        "# raster_out = rasterize(polygon, dummy_raster_grid) 식으로 간단히 처리하는데, Python이\n",
        "# 공간 자료 처리가 좀 더 low-level에서 적어줘야 하는 듯. 간단한 방식이 없는 듯..\n",
        "# 아래와 같이 메타데이터 리스트를 만들어 주고..\n",
        "\n",
        "# float type for continuous data\n",
        "out_meta_float64 = {\n",
        "    \"driver\": \"GTiff\",\n",
        "    \"dtype\": \"float64\", # 64bit float\n",
        "    \"height\": h,\n",
        "    \"width\": w,\n",
        "    \"count\": 1,\n",
        "    \"crs\": dummy_shp.crs,\n",
        "    \"transform\": transform.from_bounds(xmin, ymin, xmax, ymax, w, h),\n",
        "    \"compress\": 'lzw'\n",
        "}\n",
        "\n",
        "grossarea_out_fn = './images/grossarea_100m.tif'\n",
        "\n",
        "# 변환해서 파일에 쓰는 식으로 처리. 불필요하게 복잡한 감이 있다.. 이후 많이 사용하게 되면 함수화 해야 함.\n",
        "\n",
        "# convert height\n",
        "with rasterio.open(grossarea_out_fn, 'w+', **out_meta_float64) as out:\n",
        "    out_arr = out.read(1)\n",
        "\n",
        "    # this is where we create a generator of geom, value pairs to use in rasterizing\n",
        "    shapes = ((geom,value) for geom, value in zip(grossarea_gdf.geometry, grossarea_gdf.val))\n",
        "\n",
        "    burned = features.rasterize(shapes=shapes, fill=0, out=out_arr, transform=out.transform)\n",
        "    out.write_band(1, burned)\n",
        "\n"
      ],
      "metadata": {
        "colab": {
          "base_uri": "https://localhost:8080/"
        },
        "id": "olgqPIsSpeZf",
        "outputId": "d6af3ae9-f0da-4274-f109-355abf5fa9ef"
      },
      "execution_count": null,
      "outputs": [
        {
          "output_type": "stream",
          "name": "stdout",
          "text": [
            "<class 'numpy.ndarray'>\n",
            "(4,)\n",
            "<class 'numpy.float64'>\n"
          ]
        }
      ]
    },
    {
      "cell_type": "code",
      "source": [
        "# read the outcome rasters\n",
        "grossarea_100m_r = rasterio.open('images/grossarea_100m.tif')\n",
        "print(grossarea_100m_r)\n",
        "\n",
        "# Plot the image\n",
        "grossarea_100m_img = grossarea_100m_r.read(1)\n",
        "\n",
        "plt.imshow(grossarea_100m_img, cmap='pink')\n",
        "plt.colorbar()\n",
        "plt.title('Gross area (m2/ha)') # 이 데이터가 100 m * 100 m 래스터이기 때문에 단위는 m2/ha\n",
        "plt.show()\n",
        "\n",
        "plt.imshow(grossarea_100m_img / 1E4  , cmap='pink')\n",
        "plt.colorbar()\n",
        "plt.title('Gross area (ha/ha)') # ha/ha 로 해 봄\n",
        "plt.show()"
      ],
      "metadata": {
        "colab": {
          "base_uri": "https://localhost:8080/",
          "height": 904
        },
        "id": "ws1mUUg8p-sj",
        "outputId": "b763f357-05cb-4ec8-bfd8-fe5401887916"
      },
      "execution_count": null,
      "outputs": [
        {
          "output_type": "stream",
          "name": "stdout",
          "text": [
            "<open DatasetReader name='images/grossarea_100m.tif' mode='r'>\n"
          ]
        },
        {
          "output_type": "display_data",
          "data": {
            "text/plain": [
              "<Figure size 640x480 with 2 Axes>"
            ],
            "image/png": "[encoded data removed]"
          },
          "metadata": {}
        },
        {
          "output_type": "display_data",
          "data": {
            "text/plain": [
              "<Figure size 640x480 with 2 Axes>"
            ],
            "image/png": "[encoded data removed]"
          },
          "metadata": {}
        }
      ]
    },
    {
      "cell_type": "code",
      "source": [],
      "metadata": {
        "id": "b5kT3CLYG1HK"
      },
      "execution_count": null,
      "outputs": []
    },
    {
      "cell_type": "code",
      "source": [
        "# Read MI table\n",
        "\n",
        "# 이름으로 불러오기\n",
        "# pd.read_excel('경로/파일명.xlsx', sheet_name = '시트명')\n",
        "MI_tb = pd.read_excel('Data/MI by structure_v2.xlsx', sheet_name = 'MI')\n",
        "MI_tb = MI_tb.fillna(0) # NaN을 0으로 바꿔주자\n",
        "print(MI_tb)"
      ],
      "metadata": {
        "id": "btADAHMkivwm",
        "colab": {
          "base_uri": "https://localhost:8080/"
        },
        "outputId": "7c0cb2bd-92a5-427a-eb72-d6c7c58ecca1"
      },
      "execution_count": null,
      "outputs": [
        {
          "output_type": "stream",
          "name": "stdout",
          "text": [
            "   Code                       Name  Brick_kgm2  Mortar_kgm2  Block_kgm2  \\\n",
            "0    11                      Brick       262.5       152.25         0.0   \n",
            "1    12                      Block         0.0        49.35       525.0   \n",
            "2    19    Other masonry structure         0.0         0.00         0.0   \n",
            "3    21        Reinforced concrete         0.0         0.00         0.0   \n",
            "4    31                      Steel         0.0         0.00         0.0   \n",
            "5    40  Steel reinforced concrete         0.0         0.00         0.0   \n",
            "6    41             Steel concrete         0.0         0.00         0.0   \n",
            "7    42  Steel reinforced concrete         0.0         0.00         0.0   \n",
            "8    51                       Wood         0.0         0.00         0.0   \n",
            "9    99                      Other         0.0         0.00         0.0   \n",
            "\n",
            "   Concrete_m3m2  Rebar_kgm2  SteelFrame_kgm2  StructuralMaterial_m3m2  \\\n",
            "0        0.00000    0.000000              0.0                 0.000000   \n",
            "1        0.00000    0.000000              0.0                 0.000000   \n",
            "2        0.00000    0.000000              0.0                 0.000000   \n",
            "3        0.55000   45.000000              0.0                 0.000000   \n",
            "4        0.25000   21.000000             55.0                 0.000000   \n",
            "5        0.45000   70.000000             80.0                 0.000000   \n",
            "6        0.45000   70.000000             80.0                 0.000000   \n",
            "7        0.45000   70.000000             80.0                 0.000000   \n",
            "8        0.42884   34.309408              0.0                 0.195805   \n",
            "9        0.00000    0.000000              0.0                 0.000000   \n",
            "\n",
            "   OSB_m3m2  \n",
            "0  0.000000  \n",
            "1  0.000000  \n",
            "2  0.000000  \n",
            "3  0.000000  \n",
            "4  0.000000  \n",
            "5  0.000000  \n",
            "6  0.000000  \n",
            "7  0.000000  \n",
            "8  0.047806  \n",
            "9  0.000000  \n"
          ]
        }
      ]
    },
    {
      "cell_type": "markdown",
      "source": [
        "MI와 Embedded Carbon사이의 관계식을 엑셀에서 읽어들이고 내재탄소량 계산"
      ],
      "metadata": {
        "id": "E9vgpoKf6NYf"
      }
    },
    {
      "cell_type": "code",
      "source": [
        "EC_tb = pd.read_excel('Data/MI by structure_v2.xlsx', sheet_name = 'GWP')\n",
        "EC_tb = EC_tb.fillna(0) # NaN을 0으로 바꿔주자\n",
        "print(EC_tb)\n"
      ],
      "metadata": {
        "colab": {
          "base_uri": "https://localhost:8080/"
        },
        "id": "pacdn7Hsve1U",
        "outputId": "3a580973-fa6e-43c4-9b60-2f8583cf13e1"
      },
      "execution_count": null,
      "outputs": [
        {
          "output_type": "stream",
          "name": "stdout",
          "text": [
            "             Material  Coefficient         Unit     세부자재  \\\n",
            "0               Brick        0.398  kgCO2-eq/kg     점토벽돌   \n",
            "1              Mortar        0.926  kgCO2-eq/kg     모르타르   \n",
            "2               Block        0.123  kgCO2-eq/kg   콘크리트블록   \n",
            "3            Concrete      241.000  kgCO2-eq/m3      레미콘   \n",
            "4               Rebar        0.438  kgCO2-eq/kg       철근   \n",
            "5          SteelFrame        0.429  kgCO2-eq/kg       철골   \n",
            "6  StructuralMaterial      818.000  kgCO2-eq/m3  구조재(각재)   \n",
            "7                 OSB      818.000  kgCO2-eq/m3       합판   \n",
            "\n",
            "                       DB명  Reference  개발연도  \\\n",
            "0         점토벽돌(Clay brick)  국가 LCI DB  2018   \n",
            "1              1종 포틀랜드 시멘트  국가 LCI DB  2017   \n",
            "2  콘크리트 벽돌(Concrete Brick)  국가 LCI DB  2018   \n",
            "3         레디믹스트 콘크리트 25-24  국가 LCI DB  2018   \n",
            "4                   철근생산공정  국가 LCI DB  2002   \n",
            "5                   형강생산공정  국가 LCI DB  2002   \n",
            "6              합판(Plywood)  국가 LCI DB  2005   \n",
            "7              합판(Plywood)  국가 LCI DB  2005   \n",
            "\n",
            "                                               비고  \n",
            "0                Total : , ezEPD : , ecoinvent :   \n",
            "1                Total : , ezEPD : , ecoinvent :   \n",
            "2                Total : , ezEPD : , ecoinvent :   \n",
            "3  보고서 : 166, Total : 241, ezEPD : , ecoinvent :   \n",
            "4                Total : , ezEPD : , ecoinvent :   \n",
            "5                Total : , ezEPD : , ecoinvent :   \n",
            "6                Total : , ezEPD : , ecoinvent :   \n",
            "7                Total : , ezEPD : , ecoinvent :   \n"
          ]
        }
      ]
    },
    {
      "cell_type": "code",
      "source": [
        "# Carbon from Concrete\n",
        "\n",
        "EC_concrete = EC_tb.loc[EC_tb.Material == \"Concrete\",:] # slicing pandas dataframe\n",
        "print(EC_concrete)\n",
        "\n",
        "\n",
        "\n"
      ],
      "metadata": {
        "id": "w9ovE3mn25CG",
        "colab": {
          "base_uri": "https://localhost:8080/"
        },
        "outputId": "8d1078b7-29ac-4f05-fbf4-8671c25056bf"
      },
      "execution_count": null,
      "outputs": [
        {
          "output_type": "stream",
          "name": "stdout",
          "text": [
            "   Material  Coefficient         Unit 세부자재               DB명  Reference  개발연도  \\\n",
            "3  Concrete        241.0  kgCO2-eq/m3  레미콘  레디믹스트 콘크리트 25-24  국가 LCI DB  2018   \n",
            "\n",
            "                                               비고  \n",
            "3  보고서 : 166, Total : 241, ezEPD : , ecoinvent :   \n"
          ]
        }
      ]
    },
    {
      "cell_type": "code",
      "source": [
        "EC_concrete.__class__"
      ],
      "metadata": {
        "colab": {
          "base_uri": "https://localhost:8080/"
        },
        "id": "7NGYH9aaQU7s",
        "outputId": "0e187df1-7688-4673-ec79-a6f8c9745e3e"
      },
      "execution_count": null,
      "outputs": [
        {
          "output_type": "execute_result",
          "data": {
            "text/plain": [
              "pandas.core.frame.DataFrame"
            ]
          },
          "metadata": {},
          "execution_count": 10
        }
      ]
    },
    {
      "cell_type": "code",
      "source": [
        "# Slicing the EC table\n",
        "\n",
        "ec_tmp1 = EC_concrete['Coefficient']\n",
        "\n",
        "# or\n",
        "\n",
        "ec_tmp2 = EC_tb.loc[EC_tb.Material == \"Concrete\", 'Coefficient']\n",
        "\n",
        "print(ec_tmp1)\n",
        "print(ec_tmp2)\n",
        "\n",
        "\n"
      ],
      "metadata": {
        "colab": {
          "base_uri": "https://localhost:8080/"
        },
        "id": "plSfFuCa23OF",
        "outputId": "3d9aa563-7f3d-4cb6-9132-5330f0fa28c4"
      },
      "execution_count": null,
      "outputs": [
        {
          "output_type": "stream",
          "name": "stdout",
          "text": [
            "3    241.0\n",
            "Name: Coefficient, dtype: float64\n",
            "3    241.0\n",
            "Name: Coefficient, dtype: float64\n"
          ]
        }
      ]
    },
    {
      "cell_type": "code",
      "source": [],
      "metadata": {
        "id": "PRZk5kqt3YfY"
      },
      "execution_count": null,
      "outputs": []
    },
    {
      "cell_type": "code",
      "source": [
        "# Gross-area by Structure\n",
        "code_v = np.array(MI_tb.loc[ : ,'Code']  )\n",
        "print(code_v)\n",
        "\n",
        "print(code_v[3])\n"
      ],
      "metadata": {
        "colab": {
          "base_uri": "https://localhost:8080/"
        },
        "id": "R15-xaBRvmDY",
        "outputId": "e4cce875-b1ce-4023-f5ca-3ff0c4d82c17"
      },
      "execution_count": null,
      "outputs": [
        {
          "output_type": "stream",
          "name": "stdout",
          "text": [
            "[11 12 19 21 31 40 41 42 51 99]\n",
            "21\n"
          ]
        }
      ]
    },
    {
      "cell_type": "code",
      "source": [
        "\n",
        "grossarea_21 = grossarea_100m_img * (code_img == 21)\n",
        "# or\n",
        "grossarea_21_rep = grossarea_100m_img * (code_img == code_v[3]) # Python에서는 인덱스가 0부터 시작. 4번째 값이니까 0, 1, 2, 3 해서 '3'을 입력해야 철근콘크리트 코드 선택됨\n",
        "\n",
        "\n",
        "grossarea_21 == grossarea_21_rep # 값을 비교해 봄. 동일하다.\n"
      ],
      "metadata": {
        "colab": {
          "base_uri": "https://localhost:8080/"
        },
        "id": "Cqp5gb4JQqql",
        "outputId": "696b1e73-a8e3-4ce2-ce08-b7730a8cbfa1"
      },
      "execution_count": null,
      "outputs": [
        {
          "output_type": "execute_result",
          "data": {
            "text/plain": [
              "array([[ True,  True,  True, ...,  True,  True,  True],\n",
              "       [ True,  True,  True, ...,  True,  True,  True],\n",
              "       [ True,  True,  True, ...,  True,  True,  True],\n",
              "       ...,\n",
              "       [ True,  True,  True, ...,  True,  True,  True],\n",
              "       [ True,  True,  True, ...,  True,  True,  True],\n",
              "       [ True,  True,  True, ...,  True,  True,  True]])"
            ]
          },
          "metadata": {},
          "execution_count": 13
        }
      ]
    },
    {
      "cell_type": "code",
      "source": [
        "# Pandas dataframe에서 슬라이스된 값을 곱할 때 에러가 났음. Numpy array로 변환하여 해결\n",
        "# ref: https://stackoverflow.com/questions/63220314/typeerror-cant-multiply-sequence-by-non-int-of-type-numpy-float64-in-machine\n",
        "\n",
        "concrete_21_m3 = grossarea_21 * np.array(MI_tb.loc[MI_tb.Code == 21,'Concrete_m3m2']  )\n",
        "rebar_21_kg = grossarea_21  * np.array(MI_tb.loc[MI_tb.Code == 21,'Rebar_kgm2']  )\n",
        "\n",
        "\n",
        "\n"
      ],
      "metadata": {
        "id": "BmsWqRWva2lA"
      },
      "execution_count": null,
      "outputs": []
    },
    {
      "cell_type": "code",
      "source": [
        "# Carbon으로 컨버전 해 보자\n",
        "# carbon_21_concrete = concrete_21_m3 * ec_tmp2 # error, why?"
      ],
      "metadata": {
        "colab": {
          "base_uri": "https://localhost:8080/",
          "height": 324
        },
        "id": "uCoybavB3uCJ",
        "outputId": "b123d93d-3cab-4e6f-da07-ec37522eedef"
      },
      "execution_count": null,
      "outputs": [
        {
          "output_type": "error",
          "ename": "ValueError",
          "evalue": "ignored",
          "traceback": [
            "\u001b[0;31m---------------------------------------------------------------------------\u001b[0m",
            "\u001b[0;31mValueError\u001b[0m                                Traceback (most recent call last)",
            "\u001b[0;32m<ipython-input-15-c66d0ab8285f>\u001b[0m in \u001b[0;36m<cell line: 2>\u001b[0;34m()\u001b[0m\n\u001b[1;32m      1\u001b[0m \u001b[0;31m# Carbon으로 컨버전 해 보자\u001b[0m\u001b[0;34m\u001b[0m\u001b[0;34m\u001b[0m\u001b[0m\n\u001b[0;32m----> 2\u001b[0;31m \u001b[0mcarbon_21_concrete\u001b[0m \u001b[0;34m=\u001b[0m \u001b[0mconcrete_21_m3\u001b[0m \u001b[0;34m*\u001b[0m \u001b[0mec_tmp2\u001b[0m \u001b[0;31m# error, why?\u001b[0m\u001b[0;34m\u001b[0m\u001b[0;34m\u001b[0m\u001b[0m\n\u001b[0m",
            "\u001b[0;32m/usr/local/lib/python3.10/dist-packages/pandas/core/generic.py\u001b[0m in \u001b[0;36m__array_ufunc__\u001b[0;34m(self, ufunc, method, *inputs, **kwargs)\u001b[0m\n\u001b[1;32m   2111\u001b[0m         \u001b[0mself\u001b[0m\u001b[0;34m,\u001b[0m \u001b[0mufunc\u001b[0m\u001b[0;34m:\u001b[0m \u001b[0mnp\u001b[0m\u001b[0;34m.\u001b[0m\u001b[0mufunc\u001b[0m\u001b[0;34m,\u001b[0m \u001b[0mmethod\u001b[0m\u001b[0;34m:\u001b[0m \u001b[0mstr\u001b[0m\u001b[0;34m,\u001b[0m \u001b[0;34m*\u001b[0m\u001b[0minputs\u001b[0m\u001b[0;34m:\u001b[0m \u001b[0mAny\u001b[0m\u001b[0;34m,\u001b[0m \u001b[0;34m**\u001b[0m\u001b[0mkwargs\u001b[0m\u001b[0;34m:\u001b[0m \u001b[0mAny\u001b[0m\u001b[0;34m\u001b[0m\u001b[0;34m\u001b[0m\u001b[0m\n\u001b[1;32m   2112\u001b[0m     ):\n\u001b[0;32m-> 2113\u001b[0;31m         \u001b[0;32mreturn\u001b[0m \u001b[0marraylike\u001b[0m\u001b[0;34m.\u001b[0m\u001b[0marray_ufunc\u001b[0m\u001b[0;34m(\u001b[0m\u001b[0mself\u001b[0m\u001b[0;34m,\u001b[0m \u001b[0mufunc\u001b[0m\u001b[0;34m,\u001b[0m \u001b[0mmethod\u001b[0m\u001b[0;34m,\u001b[0m \u001b[0;34m*\u001b[0m\u001b[0minputs\u001b[0m\u001b[0;34m,\u001b[0m \u001b[0;34m**\u001b[0m\u001b[0mkwargs\u001b[0m\u001b[0;34m)\u001b[0m\u001b[0;34m\u001b[0m\u001b[0;34m\u001b[0m\u001b[0m\n\u001b[0m\u001b[1;32m   2114\u001b[0m \u001b[0;34m\u001b[0m\u001b[0m\n\u001b[1;32m   2115\u001b[0m     \u001b[0;31m# ----------------------------------------------------------------------\u001b[0m\u001b[0;34m\u001b[0m\u001b[0;34m\u001b[0m\u001b[0m\n",
            "\u001b[0;32m/usr/local/lib/python3.10/dist-packages/pandas/core/arraylike.py\u001b[0m in \u001b[0;36marray_ufunc\u001b[0;34m(self, ufunc, method, *inputs, **kwargs)\u001b[0m\n\u001b[1;32m    263\u001b[0m \u001b[0;34m\u001b[0m\u001b[0m\n\u001b[1;32m    264\u001b[0m     \u001b[0;31m# for binary ops, use our custom dunder methods\u001b[0m\u001b[0;34m\u001b[0m\u001b[0;34m\u001b[0m\u001b[0m\n\u001b[0;32m--> 265\u001b[0;31m     \u001b[0mresult\u001b[0m \u001b[0;34m=\u001b[0m \u001b[0mmaybe_dispatch_ufunc_to_dunder_op\u001b[0m\u001b[0;34m(\u001b[0m\u001b[0mself\u001b[0m\u001b[0;34m,\u001b[0m \u001b[0mufunc\u001b[0m\u001b[0;34m,\u001b[0m \u001b[0mmethod\u001b[0m\u001b[0;34m,\u001b[0m \u001b[0;34m*\u001b[0m\u001b[0minputs\u001b[0m\u001b[0;34m,\u001b[0m \u001b[0;34m**\u001b[0m\u001b[0mkwargs\u001b[0m\u001b[0;34m)\u001b[0m\u001b[0;34m\u001b[0m\u001b[0;34m\u001b[0m\u001b[0m\n\u001b[0m\u001b[1;32m    266\u001b[0m     \u001b[0;32mif\u001b[0m \u001b[0mresult\u001b[0m \u001b[0;32mis\u001b[0m \u001b[0;32mnot\u001b[0m \u001b[0mNotImplemented\u001b[0m\u001b[0;34m:\u001b[0m\u001b[0;34m\u001b[0m\u001b[0;34m\u001b[0m\u001b[0m\n\u001b[1;32m    267\u001b[0m         \u001b[0;32mreturn\u001b[0m \u001b[0mresult\u001b[0m\u001b[0;34m\u001b[0m\u001b[0;34m\u001b[0m\u001b[0m\n",
            "\u001b[0;32m/usr/local/lib/python3.10/dist-packages/pandas/_libs/ops_dispatch.pyx\u001b[0m in \u001b[0;36mpandas._libs.ops_dispatch.maybe_dispatch_ufunc_to_dunder_op\u001b[0;34m()\u001b[0m\n",
            "\u001b[0;32m/usr/local/lib/python3.10/dist-packages/pandas/core/ops/common.py\u001b[0m in \u001b[0;36mnew_method\u001b[0;34m(self, other)\u001b[0m\n\u001b[1;32m     70\u001b[0m         \u001b[0mother\u001b[0m \u001b[0;34m=\u001b[0m \u001b[0mitem_from_zerodim\u001b[0m\u001b[0;34m(\u001b[0m\u001b[0mother\u001b[0m\u001b[0;34m)\u001b[0m\u001b[0;34m\u001b[0m\u001b[0;34m\u001b[0m\u001b[0m\n\u001b[1;32m     71\u001b[0m \u001b[0;34m\u001b[0m\u001b[0m\n\u001b[0;32m---> 72\u001b[0;31m         \u001b[0;32mreturn\u001b[0m \u001b[0mmethod\u001b[0m\u001b[0;34m(\u001b[0m\u001b[0mself\u001b[0m\u001b[0;34m,\u001b[0m \u001b[0mother\u001b[0m\u001b[0;34m)\u001b[0m\u001b[0;34m\u001b[0m\u001b[0;34m\u001b[0m\u001b[0m\n\u001b[0m\u001b[1;32m     73\u001b[0m \u001b[0;34m\u001b[0m\u001b[0m\n\u001b[1;32m     74\u001b[0m     \u001b[0;32mreturn\u001b[0m \u001b[0mnew_method\u001b[0m\u001b[0;34m\u001b[0m\u001b[0;34m\u001b[0m\u001b[0m\n",
            "\u001b[0;32m/usr/local/lib/python3.10/dist-packages/pandas/core/arraylike.py\u001b[0m in \u001b[0;36m__rmul__\u001b[0;34m(self, other)\u001b[0m\n\u001b[1;32m    120\u001b[0m     \u001b[0;34m@\u001b[0m\u001b[0munpack_zerodim_and_defer\u001b[0m\u001b[0;34m(\u001b[0m\u001b[0;34m\"__rmul__\"\u001b[0m\u001b[0;34m)\u001b[0m\u001b[0;34m\u001b[0m\u001b[0;34m\u001b[0m\u001b[0m\n\u001b[1;32m    121\u001b[0m     \u001b[0;32mdef\u001b[0m \u001b[0m__rmul__\u001b[0m\u001b[0;34m(\u001b[0m\u001b[0mself\u001b[0m\u001b[0;34m,\u001b[0m \u001b[0mother\u001b[0m\u001b[0;34m)\u001b[0m\u001b[0;34m:\u001b[0m\u001b[0;34m\u001b[0m\u001b[0;34m\u001b[0m\u001b[0m\n\u001b[0;32m--> 122\u001b[0;31m         \u001b[0;32mreturn\u001b[0m \u001b[0mself\u001b[0m\u001b[0;34m.\u001b[0m\u001b[0m_arith_method\u001b[0m\u001b[0;34m(\u001b[0m\u001b[0mother\u001b[0m\u001b[0;34m,\u001b[0m \u001b[0mroperator\u001b[0m\u001b[0;34m.\u001b[0m\u001b[0mrmul\u001b[0m\u001b[0;34m)\u001b[0m\u001b[0;34m\u001b[0m\u001b[0;34m\u001b[0m\u001b[0m\n\u001b[0m\u001b[1;32m    123\u001b[0m \u001b[0;34m\u001b[0m\u001b[0m\n\u001b[1;32m    124\u001b[0m     \u001b[0;34m@\u001b[0m\u001b[0munpack_zerodim_and_defer\u001b[0m\u001b[0;34m(\u001b[0m\u001b[0;34m\"__truediv__\"\u001b[0m\u001b[0;34m)\u001b[0m\u001b[0;34m\u001b[0m\u001b[0;34m\u001b[0m\u001b[0m\n",
            "\u001b[0;32m/usr/local/lib/python3.10/dist-packages/pandas/core/series.py\u001b[0m in \u001b[0;36m_arith_method\u001b[0;34m(self, other, op)\u001b[0m\n\u001b[1;32m   6257\u001b[0m     \u001b[0;32mdef\u001b[0m \u001b[0m_arith_method\u001b[0m\u001b[0;34m(\u001b[0m\u001b[0mself\u001b[0m\u001b[0;34m,\u001b[0m \u001b[0mother\u001b[0m\u001b[0;34m,\u001b[0m \u001b[0mop\u001b[0m\u001b[0;34m)\u001b[0m\u001b[0;34m:\u001b[0m\u001b[0;34m\u001b[0m\u001b[0;34m\u001b[0m\u001b[0m\n\u001b[1;32m   6258\u001b[0m         \u001b[0mself\u001b[0m\u001b[0;34m,\u001b[0m \u001b[0mother\u001b[0m \u001b[0;34m=\u001b[0m \u001b[0mops\u001b[0m\u001b[0;34m.\u001b[0m\u001b[0malign_method_SERIES\u001b[0m\u001b[0;34m(\u001b[0m\u001b[0mself\u001b[0m\u001b[0;34m,\u001b[0m \u001b[0mother\u001b[0m\u001b[0;34m)\u001b[0m\u001b[0;34m\u001b[0m\u001b[0;34m\u001b[0m\u001b[0m\n\u001b[0;32m-> 6259\u001b[0;31m         \u001b[0;32mreturn\u001b[0m \u001b[0mbase\u001b[0m\u001b[0;34m.\u001b[0m\u001b[0mIndexOpsMixin\u001b[0m\u001b[0;34m.\u001b[0m\u001b[0m_arith_method\u001b[0m\u001b[0;34m(\u001b[0m\u001b[0mself\u001b[0m\u001b[0;34m,\u001b[0m \u001b[0mother\u001b[0m\u001b[0;34m,\u001b[0m \u001b[0mop\u001b[0m\u001b[0;34m)\u001b[0m\u001b[0;34m\u001b[0m\u001b[0;34m\u001b[0m\u001b[0m\n\u001b[0m\u001b[1;32m   6260\u001b[0m \u001b[0;34m\u001b[0m\u001b[0m\n\u001b[1;32m   6261\u001b[0m \u001b[0;34m\u001b[0m\u001b[0m\n",
            "\u001b[0;32m/usr/local/lib/python3.10/dist-packages/pandas/core/base.py\u001b[0m in \u001b[0;36m_arith_method\u001b[0;34m(self, other, op)\u001b[0m\n\u001b[1;32m   1325\u001b[0m             \u001b[0mresult\u001b[0m \u001b[0;34m=\u001b[0m \u001b[0mops\u001b[0m\u001b[0;34m.\u001b[0m\u001b[0marithmetic_op\u001b[0m\u001b[0;34m(\u001b[0m\u001b[0mlvalues\u001b[0m\u001b[0;34m,\u001b[0m \u001b[0mrvalues\u001b[0m\u001b[0;34m,\u001b[0m \u001b[0mop\u001b[0m\u001b[0;34m)\u001b[0m\u001b[0;34m\u001b[0m\u001b[0;34m\u001b[0m\u001b[0m\n\u001b[1;32m   1326\u001b[0m \u001b[0;34m\u001b[0m\u001b[0m\n\u001b[0;32m-> 1327\u001b[0;31m         \u001b[0;32mreturn\u001b[0m \u001b[0mself\u001b[0m\u001b[0;34m.\u001b[0m\u001b[0m_construct_result\u001b[0m\u001b[0;34m(\u001b[0m\u001b[0mresult\u001b[0m\u001b[0;34m,\u001b[0m \u001b[0mname\u001b[0m\u001b[0;34m=\u001b[0m\u001b[0mres_name\u001b[0m\u001b[0;34m)\u001b[0m\u001b[0;34m\u001b[0m\u001b[0;34m\u001b[0m\u001b[0m\n\u001b[0m\u001b[1;32m   1328\u001b[0m \u001b[0;34m\u001b[0m\u001b[0m\n\u001b[1;32m   1329\u001b[0m     \u001b[0;32mdef\u001b[0m \u001b[0m_construct_result\u001b[0m\u001b[0;34m(\u001b[0m\u001b[0mself\u001b[0m\u001b[0;34m,\u001b[0m \u001b[0mresult\u001b[0m\u001b[0;34m,\u001b[0m \u001b[0mname\u001b[0m\u001b[0;34m)\u001b[0m\u001b[0;34m:\u001b[0m\u001b[0;34m\u001b[0m\u001b[0;34m\u001b[0m\u001b[0m\n",
            "\u001b[0;32m/usr/local/lib/python3.10/dist-packages/pandas/core/series.py\u001b[0m in \u001b[0;36m_construct_result\u001b[0;34m(self, result, name)\u001b[0m\n\u001b[1;32m   3221\u001b[0m         \u001b[0;31m# We do not pass dtype to ensure that the Series constructor\u001b[0m\u001b[0;34m\u001b[0m\u001b[0;34m\u001b[0m\u001b[0m\n\u001b[1;32m   3222\u001b[0m         \u001b[0;31m#  does inference in the case where `result` has object-dtype.\u001b[0m\u001b[0;34m\u001b[0m\u001b[0;34m\u001b[0m\u001b[0m\n\u001b[0;32m-> 3223\u001b[0;31m         \u001b[0mout\u001b[0m \u001b[0;34m=\u001b[0m \u001b[0mself\u001b[0m\u001b[0;34m.\u001b[0m\u001b[0m_constructor\u001b[0m\u001b[0;34m(\u001b[0m\u001b[0mresult\u001b[0m\u001b[0;34m,\u001b[0m \u001b[0mindex\u001b[0m\u001b[0;34m=\u001b[0m\u001b[0mself\u001b[0m\u001b[0;34m.\u001b[0m\u001b[0mindex\u001b[0m\u001b[0;34m)\u001b[0m\u001b[0;34m\u001b[0m\u001b[0;34m\u001b[0m\u001b[0m\n\u001b[0m\u001b[1;32m   3224\u001b[0m         \u001b[0mout\u001b[0m \u001b[0;34m=\u001b[0m \u001b[0mout\u001b[0m\u001b[0;34m.\u001b[0m\u001b[0m__finalize__\u001b[0m\u001b[0;34m(\u001b[0m\u001b[0mself\u001b[0m\u001b[0;34m)\u001b[0m\u001b[0;34m\u001b[0m\u001b[0;34m\u001b[0m\u001b[0m\n\u001b[1;32m   3225\u001b[0m \u001b[0;34m\u001b[0m\u001b[0m\n",
            "\u001b[0;32m/usr/local/lib/python3.10/dist-packages/pandas/core/series.py\u001b[0m in \u001b[0;36m__init__\u001b[0;34m(self, data, index, dtype, name, copy, fastpath)\u001b[0m\n\u001b[1;32m    459\u001b[0m                 \u001b[0mindex\u001b[0m \u001b[0;34m=\u001b[0m \u001b[0mdefault_index\u001b[0m\u001b[0;34m(\u001b[0m\u001b[0mlen\u001b[0m\u001b[0;34m(\u001b[0m\u001b[0mdata\u001b[0m\u001b[0;34m)\u001b[0m\u001b[0;34m)\u001b[0m\u001b[0;34m\u001b[0m\u001b[0;34m\u001b[0m\u001b[0m\n\u001b[1;32m    460\u001b[0m             \u001b[0;32melif\u001b[0m \u001b[0mis_list_like\u001b[0m\u001b[0;34m(\u001b[0m\u001b[0mdata\u001b[0m\u001b[0;34m)\u001b[0m\u001b[0;34m:\u001b[0m\u001b[0;34m\u001b[0m\u001b[0;34m\u001b[0m\u001b[0m\n\u001b[0;32m--> 461\u001b[0;31m                 \u001b[0mcom\u001b[0m\u001b[0;34m.\u001b[0m\u001b[0mrequire_length_match\u001b[0m\u001b[0;34m(\u001b[0m\u001b[0mdata\u001b[0m\u001b[0;34m,\u001b[0m \u001b[0mindex\u001b[0m\u001b[0;34m)\u001b[0m\u001b[0;34m\u001b[0m\u001b[0;34m\u001b[0m\u001b[0m\n\u001b[0m\u001b[1;32m    462\u001b[0m \u001b[0;34m\u001b[0m\u001b[0m\n\u001b[1;32m    463\u001b[0m             \u001b[0;31m# create/copy the manager\u001b[0m\u001b[0;34m\u001b[0m\u001b[0;34m\u001b[0m\u001b[0m\n",
            "\u001b[0;32m/usr/local/lib/python3.10/dist-packages/pandas/core/common.py\u001b[0m in \u001b[0;36mrequire_length_match\u001b[0;34m(data, index)\u001b[0m\n\u001b[1;32m    569\u001b[0m     \"\"\"\n\u001b[1;32m    570\u001b[0m     \u001b[0;32mif\u001b[0m \u001b[0mlen\u001b[0m\u001b[0;34m(\u001b[0m\u001b[0mdata\u001b[0m\u001b[0;34m)\u001b[0m \u001b[0;34m!=\u001b[0m \u001b[0mlen\u001b[0m\u001b[0;34m(\u001b[0m\u001b[0mindex\u001b[0m\u001b[0;34m)\u001b[0m\u001b[0;34m:\u001b[0m\u001b[0;34m\u001b[0m\u001b[0;34m\u001b[0m\u001b[0m\n\u001b[0;32m--> 571\u001b[0;31m         raise ValueError(\n\u001b[0m\u001b[1;32m    572\u001b[0m             \u001b[0;34m\"Length of values \"\u001b[0m\u001b[0;34m\u001b[0m\u001b[0;34m\u001b[0m\u001b[0m\n\u001b[1;32m    573\u001b[0m             \u001b[0;34mf\"({len(data)}) \"\u001b[0m\u001b[0;34m\u001b[0m\u001b[0;34m\u001b[0m\u001b[0m\n",
            "\u001b[0;31mValueError\u001b[0m: Length of values (75) does not match length of index (1)"
          ]
        }
      ]
    },
    {
      "cell_type": "code",
      "source": [
        "carbon_21_concrete = concrete_21_m3 * np.array(ec_tmp2) # np.array 함수로 감싸 줘서 해결"
      ],
      "metadata": {
        "id": "4nDt4n8C3waL"
      },
      "execution_count": null,
      "outputs": []
    },
    {
      "cell_type": "code",
      "source": [
        "# 한 번에 해 봅시다\n",
        "# 21번 구조에서 콘크리트에 내재된 탄소 (Kg CO2 eq)\n",
        "carbon_21_concrete_kgCO2 = grossarea_21 * np.array(MI_tb.loc[MI_tb.Code == 21,'Concrete_m3m2']) * np.array(EC_tb.loc[EC_tb.Material == \"Concrete\",'Coefficient'])\n",
        "# 철근에 내재된 탄소\n",
        "carbon_21_rebar_kgCO2 = grossarea_21  * np.array(MI_tb.loc[MI_tb.Code == 21,'Rebar_kgm2']  )* np.array(EC_tb.loc[EC_tb.Material == \"Rebar\",'Coefficient'])\n",
        "\n",
        "\n",
        "# 합\n",
        "carbon_21_total_kgCO2 = carbon_21_concrete_kgCO2 + carbon_21_rebar_kgCO2\n"
      ],
      "metadata": {
        "id": "ZXeEkInMZy-8"
      },
      "execution_count": null,
      "outputs": []
    },
    {
      "cell_type": "code",
      "source": [
        "# 내재탄소량 플로팅\n",
        "\n",
        "nrow = 1\n",
        "ncol = 3\n",
        "\n",
        "plt.figure(figsize=(10,4))\n",
        "plt.subplot(nrow, ncol, 1)\n",
        "plt.imshow(carbon_21_concrete_kgCO2 / 1000.0,  cmap='pink')\n",
        "plt.colorbar()\n",
        "plt.title('Carbon (ton CO2 eq) (Wood - Concrete)')\n",
        "\n",
        "plt.subplot(nrow, ncol, 2)\n",
        "plt.imshow(carbon_21_rebar_kgCO2 / 1000.0,  cmap='pink')\n",
        "plt.colorbar()\n",
        "plt.title('Carbon (ton CO2 eq) (Wood - Rebar)')\n",
        "\n",
        "plt.subplot(nrow, ncol, 3) # 3번째 컬럼\n",
        "plt.imshow(carbon_21_total_kgCO2 / 1000.0,  cmap='pink')\n",
        "plt.colorbar()\n",
        "plt.title('Carbon (ton CO2 eq) (Wood - Total)')\n",
        "\n",
        "\n",
        "plt.tight_layout()\n",
        "plt.show()\n"
      ],
      "metadata": {
        "colab": {
          "base_uri": "https://localhost:8080/",
          "height": 407
        },
        "id": "7SU8UBXHvnN5",
        "outputId": "9a0e6472-f6f0-4502-9f82-6eccc5422fd9"
      },
      "execution_count": null,
      "outputs": [
        {
          "output_type": "display_data",
          "data": {
            "text/plain": [
              "<Figure size 1000x400 with 6 Axes>"
            ],
            "image/png": "[encoded data removed]"
          },
          "metadata": {}
        }
      ]
    },
    {
      "cell_type": "markdown",
      "source": [],
      "metadata": {
        "id": "eBDDIZR7xV2W"
      }
    },
    {
      "cell_type": "code",
      "source": [
        "print(\"Carbon for Wood = \" + str(np.nansum(carbon_21_total_kgCO2)/1000.0) + \" (ton)\")\n"
      ],
      "metadata": {
        "colab": {
          "base_uri": "https://localhost:8080/"
        },
        "id": "IfloeMj9SMi8",
        "outputId": "4b8618b2-1a7a-437b-9bf8-5ac60c17d500"
      },
      "execution_count": null,
      "outputs": [
        {
          "output_type": "stream",
          "name": "stdout",
          "text": [
            "Carbon for Wood = 257523.1634676 (ton)\n"
          ]
        }
      ]
    },
    {
      "cell_type": "code",
      "source": [
        "# Save the outcomes to file\n",
        "\n",
        "carbon_concrete_code21_out_fn = './images/Carbon_Code21_Concrete_100m.tif'\n",
        "\n",
        "with rasterio.open(carbon_concrete_code21_out_fn, 'w+', **out_meta_float64) as dst:\n",
        "    dst.write_band(1, carbon_21_concrete_kgCO2)\n",
        "\n",
        "carbon_rebar_code21_out_fn = './images/Carbon_Code21_Rebar_100m.tif'\n",
        "\n",
        "with rasterio.open(carbon_rebar_code21_out_fn, 'w+', **out_meta_float64) as dst:\n",
        "    dst.write_band(1, carbon_21_rebar_kgCO2)\n",
        "\n",
        "carbon_total_code21_out_fn = './images/Carbon_Code21_Total_100m.tif'\n",
        "\n",
        "with rasterio.open(carbon_total_code21_out_fn, 'w+', **out_meta_float64) as dst:\n",
        "    dst.write_band(1, carbon_21_total_kgCO2)\n",
        "\n",
        "\n",
        "\n",
        "os.listdir('images')"
      ],
      "metadata": {
        "colab": {
          "base_uri": "https://localhost:8080/"
        },
        "id": "z7IaiGo0_552",
        "outputId": "22e58e23-50c9-4375-dddd-feaa56966696"
      },
      "execution_count": null,
      "outputs": [
        {
          "output_type": "execute_result",
          "data": {
            "text/plain": [
              "['rasterized.tif',\n",
              " 'Builtup_Jongno-gu.png',\n",
              " 'Builtup_Jongno-gu_Feb2023.png',\n",
              " 'height_100m.tif',\n",
              " 'area_100m.tif',\n",
              " 'volume_100m.tif',\n",
              " 'code_100m.tif',\n",
              " 'Stock_Code21_Concrete_100m.tif',\n",
              " 'Stock_Code21_Rebar_100m.tif',\n",
              " 'grossarea_100m.tif',\n",
              " 'Carbon_Code21_Concrete_100m.tif',\n",
              " 'Carbon_Code21_Rebar_100m.tif',\n",
              " 'Carbon_Code11_brick_100m.tif',\n",
              " 'Carbon_Code11_mortar_100m.tif',\n",
              " 'Carbon_Code21_Total_100m.tif']"
            ]
          },
          "metadata": {},
          "execution_count": 20
        }
      ]
    },
    {
      "cell_type": "markdown",
      "source": [
        "이제는 루프를 만들어서 전체 구조에 대해 한 번에 batch로 처리하는 루틴을 작성해 보자."
      ],
      "metadata": {
        "id": "2KEUk9qItb5X"
      }
    },
    {
      "cell_type": "code",
      "source": [
        "# 위에서 만든 구조 코드 출력\n",
        "print(code_v)\n",
        "\n",
        "print(len(code_v)) # length of the vector\n",
        "# 10\n",
        "print(range(len(code_v))) # length to sequence\n",
        "\n",
        "# 0에서 9 까지 순회\n",
        "for i in range(len(code_v)):\n",
        "    print(\"item \", i, \"=\", code_v[i])\n",
        "\n"
      ],
      "metadata": {
        "colab": {
          "base_uri": "https://localhost:8080/"
        },
        "id": "Qy3P86j3tj91",
        "outputId": "b5860a9e-7cd8-420f-a532-589c9adbe9a6"
      },
      "execution_count": null,
      "outputs": [
        {
          "output_type": "stream",
          "name": "stdout",
          "text": [
            "[11 12 19 21 31 40 41 42 51 99]\n",
            "10\n",
            "range(0, 10)\n",
            "item  0 = 11\n",
            "item  1 = 12\n",
            "item  2 = 19\n",
            "item  3 = 21\n",
            "item  4 = 31\n",
            "item  5 = 40\n",
            "item  6 = 41\n",
            "item  7 = 42\n",
            "item  8 = 51\n",
            "item  9 = 99\n"
          ]
        }
      ]
    },
    {
      "cell_type": "code",
      "source": [
        "# for loop를 순회하면서 구조 코드 별로 처리해 보자\n",
        "# 사실 Pythonic 한 방법은 아닌데, 이해가 쉽도록 for loop 형태로 해 봄.\n",
        "\n",
        "mt_v = EC_tb.Material\n",
        "\n",
        "\n",
        "for code_idx in range(len(code_v)):\n",
        "  code_tmp = code_v[code_idx]\n",
        "  grossarea_tmp = grossarea_100m_img * (code_img == code_tmp)\n",
        "\n",
        "  # 각 구조 코드 별 물질은 이런 식으로 하나씩 해도 되지만\n",
        "  # concrete_tmp_m3 = grossarea_tmp * np.array(MI_tb.loc[MI_tb.Code == code_tmp,'Concrete_m3m2']  )\n",
        "\n",
        "  # 전체 물질을 한 번에 처리하면 편함\n",
        "  # 해당 구조에 대한 물질계수 전체. 포함되지 않는 물질의 경우 0이 됨\n",
        "  print(\"Code\", code_tmp)\n",
        "  mi_tmp = MI_tb.loc[MI_tb.Code == code_tmp, ]\n",
        "\n",
        "  # print(mi_tmp)\n",
        "\n",
        "  mi_tmp2 = np.array(mi_tmp)[0,2:] # 우리는 3번째 아이템 부터 필요함. numpy array로 변환하니 편리하다.\n",
        "  # print(mi_tmp2)\n",
        "\n",
        "  # a placeholder for total embodied carbon\n",
        "  co2eq_total_tmp = grossarea_100m_img # clone the area raster\n",
        "  co2eq_total_tmp.fill(0.0)  # fill with zero\n",
        "\n",
        "  for mt_idx in range(len(mt_v)):\n",
        "\n",
        "    # MI 테이블 슬라이싱\n",
        "\n",
        "    mt_tmp = mt_v[mt_idx]\n",
        "    # print(mt_tmp)\n",
        "\n",
        "    ec_tmp = EC_tb.loc[EC_tb.Material == mt_tmp, 'Coefficient']\n",
        "    # print(ec_tmp)\n",
        "\n",
        "    # 우리의 경우 MI테이블과 EC에서 물질 순서가 일치함. 편리하다..\n",
        "    material_tmp = grossarea_tmp * mi_tmp2[mt_idx]\n",
        "    co2eq_tmp = material_tmp * np.array(ec_tmp[mt_idx])\n",
        "\n",
        "    # 래스터 이미지 저장\n",
        "    material_out_tmp_fn = './images/Material_' + mt_tmp + '_Code' + str(code_tmp) + '_100m.tif'\n",
        "    with rasterio.open(material_out_tmp_fn, 'w+', **out_meta_float64) as dst:\n",
        "      dst.write_band(1, material_tmp)\n",
        "\n",
        "    carbon_out_tmp_fn = './images/Carbon_Code' + str(code_tmp) + '_' + mt_tmp + '_100m.tif'\n",
        "    with rasterio.open(carbon_out_tmp_fn, 'w+', **out_meta_float64) as dst:\n",
        "      dst.write_band(1, co2eq_tmp)\n",
        "\n",
        "    # accumulate total CO2eq\n",
        "    co2eq_total_tmp = co2eq_total_tmp + np.nan_to_num(co2eq_tmp, nan=0.0) # 합산하기 전에 nan을 0으로 바꿔줬음\n",
        "\n",
        "  # 여기 오면 위에 두 번째 루프는 끝났음. 첫 번째 루프는 안 끝났음.\n",
        "  # Python에서는 들여쓰기(indentation)으로 루프 영역을 지정\n",
        "  carbon_total_out_tmp_fn = './images/Carbon_Code' + str(code_tmp) + '_total_100m.tif'\n",
        "  with rasterio.open(carbon_total_out_tmp_fn, 'w+', **out_meta_float64) as dst:\n",
        "    dst.write_band(1, co2eq_total_tmp)\n",
        "\n",
        "# 여기까지 오면 첫번째 루프도 끝났음\n",
        "\n",
        "\n",
        "\n",
        "# 여하튼 위에 반복문(for-loop)가 굉장히 좋은 코딩은 아님. 가독성 위주.."
      ],
      "metadata": {
        "colab": {
          "base_uri": "https://localhost:8080/"
        },
        "id": "L1M7eyqCwqH1",
        "outputId": "a5d88fe2-1651-48ed-8495-f2a6356e1e55"
      },
      "execution_count": null,
      "outputs": [
        {
          "output_type": "stream",
          "name": "stdout",
          "text": [
            "Code 11\n",
            "[262.5 152.25 0.0 0.0 0.0 0.0 0.0 0.0]\n",
            "Code 12\n",
            "[0.0 49.35 525.0 0.0 0.0 0.0 0.0 0.0]\n",
            "Code 19\n",
            "[0.0 0.0 0.0 0.0 0.0 0.0 0.0 0.0]\n",
            "Code 21\n",
            "[0.0 0.0 0.0 0.55 45.0 0.0 0.0 0.0]\n",
            "Code 31\n",
            "[0.0 0.0 0.0 0.25 21.0 55.0 0.0 0.0]\n",
            "Code 40\n",
            "[0.0 0.0 0.0 0.45 70.0 80.0 0.0 0.0]\n",
            "Code 41\n",
            "[0.0 0.0 0.0 0.45 70.0 80.0 0.0 0.0]\n",
            "Code 42\n",
            "[0.0 0.0 0.0 0.45 70.0 80.0 0.0 0.0]\n",
            "Code 51\n",
            "[0.0 0.0 0.0 0.42884024868286524 34.30940800268597 0.0 0.19580476029999053\n",
            " 0.04780624086804449]\n",
            "Code 99\n",
            "[0.0 0.0 0.0 0.0 0.0 0.0 0.0 0.0]\n"
          ]
        }
      ]
    }
  ]
}