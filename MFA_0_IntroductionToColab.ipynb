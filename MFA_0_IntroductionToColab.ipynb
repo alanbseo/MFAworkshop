{
  "nbformat": 4,
  "nbformat_minor": 0,
  "metadata": {
    "colab": {
      "provenance": [],
      "include_colab_link": true
    },
    "kernelspec": {
      "name": "python3",
      "display_name": "Python 3"
    },
    "accelerator": "GPU"
  },
  "cells": [
    {
      "cell_type": "markdown",
      "metadata": {
        "id": "view-in-github",
        "colab_type": "text"
      },
      "source": [
        "<a href=\"https://colab.research.google.com/github/alanbseo/MFAworkshop/blob/main/MFA_0_IntroductionToColab.ipynb\" target=\"_parent\"><img src=\"https://colab.research.google.com/assets/colab-badge.svg\" alt=\"Open In Colab\"/></a>"
      ]
    },
    {
      "metadata": {
        "id": "-0wNuauCx-IG"
      },
      "cell_type": "markdown",
      "source": [
        "Google Colab (https://colab.research.google.com/) is a Jupiter notebook service released in October 2017. Colab can work with a web browser without any installation and easy to share notebooks with other users.  \n",
        "\n",
        "- Supports Python3 and the most of Machine Learning (ML) libraries e.g. Tensorflow, keras, matplotlib, scikit-learn, and pandas are pre-installed.\n",
        "\n",
        "- It supports Markdown and it can be shared and edited like Google Docs or Google Spreadsheets.  "
      ]
    },
    {
      "cell_type": "markdown",
      "source": [
        "Colab is running on a virtual machine, which resets itself often during idle time, so it has to be configured again each time. Therefore, when you work with Colab, you need to carefully prepare the necessary package installation and data managing code.  \n"
      ],
      "metadata": {
        "id": "-OT0gKLm_jij"
      }
    },
    {
      "metadata": {
        "id": "CC624f-GjGOb",
        "colab": {
          "base_uri": "https://localhost:8080/"
        },
        "outputId": "ca061476-33a7-4bf5-9829-1dfbe2acb6ee"
      },
      "cell_type": "code",
      "source": [
        "from google.colab import drive\n",
        "drive.mount('/content/gdrive')"
      ],
      "execution_count": null,
      "outputs": [
        {
          "output_type": "stream",
          "name": "stdout",
          "text": [
            "Drive already mounted at /content/gdrive; to attempt to forcibly remount, call drive.mount(\"/content/gdrive\", force_remount=True).\n",
            "\u001b[0m\u001b[01;34mMyDrive\u001b[0m/\n",
            "MyDrive\n"
          ]
        }
      ]
    },
    {
      "cell_type": "code",
      "source": [
        "# list the files in the gdrive\n",
        "%ls /content/gdrive\n",
        "# or \n",
        "!ls /content/gdrive/MyDrive"
      ],
      "metadata": {
        "id": "h4dvicCP_iwC",
        "colab": {
          "base_uri": "https://localhost:8080/"
        },
        "outputId": "2fa40fb5-291c-461d-d70e-02b0f7b82eb8"
      },
      "execution_count": null,
      "outputs": [
        {
          "output_type": "stream",
          "name": "stdout",
          "text": [
            "\u001b[0m\u001b[01;34mMyDrive\u001b[0m/\n",
            " ActivityTags_trainingdata_v1.gsheet\n",
            "'A new guideline for automated image classification using machine learing (for MEE).gdoc'\n",
            "\"Appropriate technologies for developing countries' greenhouse gas research \"\n",
            "'BeeWalk - Terrain, Climate, and Land Use variables (2020).gdoc'\n",
            " clc_legend_label4_Feb2020.gsheet\n",
            "'Colab Notebooks'\n",
            "'C-P file transfer_KIT_11Oct2018.gdoc'\n",
            "'CRAFTY - landchange.earth page.gdoc'\n",
            " Data\n",
            "'Data (1)'\n",
            " Donggul\n",
            "'Grassland paper issues.gdoc'\n",
            "'Habitat modelling and conservation area planning using camera-trap photos, computer vision, and network analysis: a case study of Yellow-throated marten in South Korea .gdoc'\n",
            "'Landchange.earth - homepage layout .gslides'\n",
            "'Literature_Guideline paper'\n",
            "'Manual Evaluation'\n",
            " Mask_RCNN-master\n",
            "'Middle Fork Activities - Shared'\n",
            "'Middle Fork Activities - Shared (1)'\n",
            "'Net zero built environment'\n",
            "'Title: EU’s forestation targets demand dietary rethink.gdoc'\n",
            " UML\n",
            "'초빙수락서_Letter for Accepting the Invitation_v1.docx'\n"
          ]
        }
      ]
    },
    {
      "cell_type": "code",
      "source": [
        "# Package installation\n",
        "!pip install floweaver"
      ],
      "metadata": {
        "colab": {
          "base_uri": "https://localhost:8080/"
        },
        "id": "28rpVfeJHMzA",
        "outputId": "40993fd2-0dab-41f4-8ddc-e2ae9dcfb3ee"
      },
      "execution_count": null,
      "outputs": [
        {
          "output_type": "stream",
          "name": "stdout",
          "text": [
            "Looking in indexes: https://pypi.org/simple, https://us-python.pkg.dev/colab-wheels/public/simple/\n",
            "Collecting floweaver\n",
            "  Downloading floweaver-2.0.1-py3-none-any.whl (28 kB)\n",
            "Requirement already satisfied: numpy in /usr/local/lib/python3.10/dist-packages (from floweaver) (1.22.4)\n",
            "Requirement already satisfied: pandas in /usr/local/lib/python3.10/dist-packages (from floweaver) (1.5.3)\n",
            "Requirement already satisfied: networkx>=2.1 in /usr/local/lib/python3.10/dist-packages (from floweaver) (3.1)\n",
            "Requirement already satisfied: attrs>=17.4 in /usr/local/lib/python3.10/dist-packages (from floweaver) (23.1.0)\n",
            "Requirement already satisfied: palettable in /usr/local/lib/python3.10/dist-packages (from floweaver) (3.3.3)\n",
            "Requirement already satisfied: python-dateutil>=2.8.1 in /usr/local/lib/python3.10/dist-packages (from pandas->floweaver) (2.8.2)\n",
            "Requirement already satisfied: pytz>=2020.1 in /usr/local/lib/python3.10/dist-packages (from pandas->floweaver) (2022.7.1)\n",
            "Requirement already satisfied: six>=1.5 in /usr/local/lib/python3.10/dist-packages (from python-dateutil>=2.8.1->pandas->floweaver) (1.16.0)\n",
            "Installing collected packages: floweaver\n",
            "Successfully installed floweaver-2.0.1\n"
          ]
        }
      ]
    },
    {
      "metadata": {
        "id": "FdcOnDVJi52g",
        "outputId": "a31230cf-bf52-4151-a8c1-a64bed7492be",
        "colab": {
          "base_uri": "https://localhost:8080/"
        }
      },
      "cell_type": "code",
      "source": [
        "# type some trivial system commands.. \n",
        "\n",
        "import sys\n",
        "sys.version_info  \n",
        "\n",
        "!df -h # disk usage\n",
        "\n",
        "import os\n",
        "print(os.listdir()) # list dir\n",
        "!ls\n"
      ],
      "execution_count": null,
      "outputs": [
        {
          "output_type": "stream",
          "name": "stdout",
          "text": [
            "Filesystem      Size  Used Avail Use% Mounted on\n",
            "overlay          79G   24G   55G  30% /\n",
            "tmpfs            64M     0   64M   0% /dev\n",
            "shm             5.7G     0  5.7G   0% /dev/shm\n",
            "/dev/root       2.0G 1005M  952M  52% /usr/sbin/docker-init\n",
            "tmpfs           6.4G  276K  6.4G   1% /var/colab\n",
            "/dev/sda1        75G   41G   35G  55% /opt/bin/.nvidia\n",
            "tmpfs           6.4G     0  6.4G   0% /proc/acpi\n",
            "tmpfs           6.4G     0  6.4G   0% /proc/scsi\n",
            "tmpfs           6.4G     0  6.4G   0% /sys/firmware\n",
            "drive            17G     0   17G   0% /content/gdrive\n",
            "['.config', 'gdrive', 'sample_data']\n",
            "gdrive\tsample_data\n"
          ]
        }
      ]
    },
    {
      "metadata": {
        "id": "ZEPC67o72Rnf",
        "outputId": "dd2d5368-8d5a-4237-9e52-9a06c2abdd81",
        "colab": {
          "base_uri": "https://localhost:8080/"
        }
      },
      "cell_type": "code",
      "source": [
        "\n",
        "import os\n",
        "print(os.path.abspath(\".\")) #print the current path \n",
        "!pwd                        #print the current path \n",
        "print(os.getcwd())          #print the current working directory \n",
        "\n",
        "\n",
        "!pwd"
      ],
      "execution_count": null,
      "outputs": [
        {
          "output_type": "stream",
          "name": "stdout",
          "text": [
            "/content\n",
            "/content\n",
            "/content\n",
            "/content\n"
          ]
        }
      ]
    },
    {
      "metadata": {
        "id": "sIIoNJvzjJi3"
      },
      "cell_type": "markdown",
      "source": [
        "*Whenever* the CoLab runtime is reset (it can happen unexpectedly, esp. you are away from the screen for a while), we need to run this set-up script again to get the data ready. \n",
        "\n",
        "\n",
        "\n"
      ]
    },
    {
      "metadata": {
        "id": "KgOjgGhx0PcR"
      },
      "cell_type": "markdown",
      "source": [
        "We use ipython notebooks stored in GitHub (https://github.com/alanbseo/MFAworkshop). GitHub notebooks can be direcly read in Colab. \n",
        "\n",
        "Reference: \n",
        "https://colab.research.google.com/github/googlecolab/colabtools/blob/master/notebooks/colab-github-demo.ipynb\n",
        "\n",
        "\n"
      ]
    },
    {
      "metadata": {
        "id": "Jjls2YdzmoY4"
      },
      "cell_type": "markdown",
      "source": [
        "Loading the Notebooks directly from GitHub by clicking the menu `File-Open notebook'. E.g. there you choose GitHub and search for the repository: \n",
        "\n",
        "Then you will see the list of the notebooks you can access. \n",
        "\n",
        "![alt text](https://cdn-images-1.medium.com/max/1600/1*hEKXmtJXecUbFcCca44fUQ.png/)"
      ]
    },
    {
      "metadata": {
        "id": "Thk1wUpIjc7J"
      },
      "cell_type": "markdown",
      "source": [
        "\n",
        "The Colab service limits the number of times it can run to avoid excessive resource consumption. If something is wrong, you can reset the virtual machine yourself by clicking \"Runtime\"> \"Reset All Runtime\".  If the reset fails, try again later.\n",
        "\n",
        "*Whenever* the CoLab runtime is reset (it can happen unexpectedly, esp. you are away from the screen for a while), we need to run this set-up script again to get the data ready. \n",
        "\n",
        "\n",
        "References: \n",
        "https://research.google.com/colaboratory/local-runtimes.html\n",
        "\n",
        "https://colab.research.google.com/notebooks/welcome.ipynb\n",
        "\n"
      ]
    }
  ]
}