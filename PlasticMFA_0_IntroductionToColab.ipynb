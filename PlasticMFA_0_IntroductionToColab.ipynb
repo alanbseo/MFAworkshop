{
  "nbformat": 4,
  "nbformat_minor": 0,
  "metadata": {
    "colab": {
      "provenance": [],
      "include_colab_link": true
    },
    "kernelspec": {
      "name": "python3",
      "display_name": "Python 3"
    },
    "accelerator": "GPU"
  },
  "cells": [
    {
      "cell_type": "markdown",
      "metadata": {
        "id": "view-in-github",
        "colab_type": "text"
      },
      "source": [
        "<a href=\"https://colab.research.google.com/github/alanbseo/MFAworkshop/blob/main/PlasticMFA_0_IntroductionToColab.ipynb\" target=\"_parent\"><img src=\"https://colab.research.google.com/assets/colab-badge.svg\" alt=\"Open In Colab\"/></a>"
      ]
    },
    {
      "metadata": {
        "id": "-0wNuauCx-IG"
      },
      "cell_type": "markdown",
      "source": [
        "Google Colab (https://colab.research.google.com/) is a Jupiter notebook service released in October 2017. Colab can work with a web browser without any installation and easy to share notebooks with other users.  \n",
        "\n",
        "- Supports Python3 and the most of Machine Learning (ML) libraries e.g. Tensorflow, keras, matplotlib, scikit-learn, and pandas are pre-installed.\n",
        "\n",
        "- It supports Markdown and it can be shared and edited like Google Docs or Google Spreadsheets.  "
      ]
    },
    {
      "cell_type": "markdown",
      "source": [
        "Colab is running on a virtual machine, which resets itself often during idle time, so it has to be configured again each time. Therefore, when you work with Colab, you need to carefully prepare the necessary package installation and data managing code.  \n"
      ],
      "metadata": {
        "id": "-OT0gKLm_jij"
      }
    },
    {
      "metadata": {
        "id": "CC624f-GjGOb",
        "colab": {
          "base_uri": "https://localhost:8080/"
        },
        "outputId": "36e432f2-dcc4-4bb8-9769-0d26bc8c2f48"
      },
      "cell_type": "code",
      "source": [
        "from google.colab import drive\n",
        "drive.mount('/content/gdrive')"
      ],
      "execution_count": null,
      "outputs": [
        {
          "output_type": "stream",
          "name": "stdout",
          "text": [
            "Mounted at /content/gdrive\n"
          ]
        }
      ]
    },
    {
      "cell_type": "code",
      "source": [
        "# list the files in the gdrive\n",
        "%ls /content/gdrive\n"
      ],
      "metadata": {
        "id": "h4dvicCP_iwC",
        "colab": {
          "base_uri": "https://localhost:8080/"
        },
        "outputId": "a5d10891-a11c-4735-db7a-7f9c54106947"
      },
      "execution_count": null,
      "outputs": [
        {
          "output_type": "stream",
          "name": "stdout",
          "text": [
            "\u001b[0m\u001b[01;34mMyDrive\u001b[0m/\n"
          ]
        }
      ]
    },
    {
      "cell_type": "code",
      "source": [
        "%ls /content/gdrive/MyDrive\n",
        "# or\n"
      ],
      "metadata": {
        "colab": {
          "base_uri": "https://localhost:8080/"
        },
        "id": "63xntNXi6dCp",
        "outputId": "81e1d2e0-0300-4f25-a9d9-49f8ae4fa626"
      },
      "execution_count": null,
      "outputs": [
        {
          "output_type": "stream",
          "name": "stdout",
          "text": [
            " ActivityTags_trainingdata_v1.gsheet\n",
            "'A new guideline for automated image classification using machine learing (for MEE).gdoc'\n",
            "\u001b[0m\u001b[01;36m\"Appropriate technologies for developing countries' greenhouse gas research \"\u001b[0m@\n",
            "'Author Response (Bioenergy paper).gdoc'\n",
            "'BeeWalk - Terrain, Climate, and Land Use variables (2020).gdoc'\n",
            " clc_legend_label4_Feb2020.gsheet\n",
            "\u001b[01;34m'Colab Notebooks'\u001b[0m/\n",
            "'C-P file transfer_KIT_11Oct2018.gdoc'\n",
            "'CRAFTY - landchange.earth page.gdoc'\n",
            " \u001b[01;34mDonggul\u001b[0m/\n",
            "'Grassland paper issues.gdoc'\n",
            "'Habitat modelling and conservation area planning using camera-trap photos, computer vision, and network analysis: a case study of Yellow-throated marten in South Korea .gdoc'\n",
            "'Landchange.earth - homepage layout .gslides'\n",
            "\u001b[01;34m'Literature_Guideline paper'\u001b[0m/\n",
            "\u001b[01;36m'Manual Evaluation'\u001b[0m@\n",
            "\u001b[01;36m'Middle Fork Activities - Shared'\u001b[0m@\n",
            "\u001b[01;36m'Net zero built environment'\u001b[0m@\n",
            "'Title: EU’s forestation targets demand dietary rethink.gdoc'\n",
            " \u001b[01;34mUML\u001b[0m/\n"
          ]
        }
      ]
    },
    {
      "cell_type": "code",
      "source": [
        "!ls /content/gdrive/MyDrive/Colab Notebooks\n",
        "!ls '/content/gdrive/MyDrive/Colab Notebooks'"
      ],
      "metadata": {
        "colab": {
          "base_uri": "https://localhost:8080/"
        },
        "id": "3EuP-YAJ62g9",
        "outputId": "1cda423e-2c7a-47f3-8b47-4f993e55fcad"
      },
      "execution_count": null,
      "outputs": [
        {
          "output_type": "stream",
          "name": "stdout",
          "text": [
            "ls: cannot access '/content/gdrive/MyDrive/Colab': No such file or directory\n",
            "ls: cannot access 'Notebooks': No such file or directory\n",
            "'Colab system specs.ipynb'\n",
            "'Copy of 5.2-using-convnets-with-small-datasets.ipynb'\n",
            " GoogleColab_setup.ipynb\n",
            " Korea_1_PretrainedCNN_prediction.ipynb\n",
            " LCA_0_IntroductionToColab.ipynb\n",
            " MFA_0_IntroductionToColab.ipynb\n",
            " MFA_1_DataProcessing.ipynb\n",
            " MFA_2_MaterialIntensity.ipynb\n",
            " MFA3_2_Exercise.ipynb\n",
            " MFA_3_EmbeddedCarbon_Plotting.ipynb\n",
            " M_RCNN_Demo_UFZ_20Mar2019.html\n",
            " M_RCNN_Demo_UFZ_20Mar2019.ipynb\n",
            " M_RCNN_Demo_UFZ_20Mar2019.pdf\n",
            "'NIE retrainedCNN_prediction.ipynb'\n",
            " Seattle_retraining_instagram_inceptionv3_v1.ipynb\n",
            " Seattle_Retraining_instagram_v3_googlecolab_notuse.ipynb\n",
            " Seattle_retraining_instagram_v5.ipynb\n",
            " UFZ_0_IntroductionToColab.ipynb\n",
            " UFZ_1_PretrainedCNN_prediction.ipynb\n",
            " UFZ_2_Mask_RCNN.ipynb\n",
            " UFZ_3_PretrainedCNN_retraining.ipynb\n",
            " UFZ_demo_CNN_retraining_ver1.ipynb\n",
            "'UFZ_useful materials.ipynb'\n"
          ]
        }
      ]
    },
    {
      "metadata": {
        "id": "FdcOnDVJi52g",
        "colab": {
          "base_uri": "https://localhost:8080/"
        },
        "outputId": "99270e9b-0a74-4f07-ec6e-b071983d16f6"
      },
      "cell_type": "code",
      "source": [
        "# type some trivial system commands..\n",
        "\n",
        "import sys\n",
        "sys.version_info\n",
        "\n",
        "!df -h # disk usage\n",
        "\n",
        "import os\n",
        "print(os.listdir()) # list dir\n",
        "!ls\n"
      ],
      "execution_count": null,
      "outputs": [
        {
          "output_type": "stream",
          "name": "stdout",
          "text": [
            "Filesystem      Size  Used Avail Use% Mounted on\n",
            "overlay          79G   27G   52G  34% /\n",
            "tmpfs            64M     0   64M   0% /dev\n",
            "shm             5.7G     0  5.7G   0% /dev/shm\n",
            "/dev/root       2.0G  1.1G  849M  57% /usr/sbin/docker-init\n",
            "tmpfs           6.4G  100K  6.4G   1% /var/colab\n",
            "/dev/sda1        75G   56G   20G  75% /opt/bin/.nvidia\n",
            "tmpfs           6.4G     0  6.4G   0% /proc/acpi\n",
            "tmpfs           6.4G     0  6.4G   0% /proc/scsi\n",
            "tmpfs           6.4G     0  6.4G   0% /sys/firmware\n",
            "drive            17G  8.9G  8.2G  53% /content/gdrive\n",
            "['.config', 'gdrive', 'sample_data']\n",
            "gdrive\tsample_data\n"
          ]
        }
      ]
    },
    {
      "metadata": {
        "id": "ZEPC67o72Rnf",
        "colab": {
          "base_uri": "https://localhost:8080/"
        },
        "outputId": "7a2bef40-0b19-4e42-e82c-40e7631954b9"
      },
      "cell_type": "code",
      "source": [
        "\n",
        "import os\n",
        "print(os.path.abspath(\".\")) #print the current path\n",
        "!pwd                        #print the current path\n",
        "print(os.getcwd())          #print the current working directory\n",
        "\n",
        "\n",
        "!pwd"
      ],
      "execution_count": null,
      "outputs": [
        {
          "output_type": "stream",
          "name": "stdout",
          "text": [
            "/content\n",
            "/content\n",
            "/content\n",
            "/content\n"
          ]
        }
      ]
    },
    {
      "metadata": {
        "id": "sIIoNJvzjJi3"
      },
      "cell_type": "markdown",
      "source": [
        "*Whenever* the CoLab runtime is reset (it can happen unexpectedly, esp. you are away from the screen for a while), we need to run this set-up script again to get the data ready.\n",
        "\n",
        "> Eingerückter Textblock\n",
        "\n",
        "\n",
        "\n",
        "\n",
        "\n"
      ]
    },
    {
      "cell_type": "code",
      "source": [
        "# Package installation\n",
        "\n",
        "!pip install dpmfa"
      ],
      "metadata": {
        "id": "28rpVfeJHMzA",
        "colab": {
          "base_uri": "https://localhost:8080/"
        },
        "outputId": "b1db6daf-3b24-4b8a-c26a-e5ad353a57c4"
      },
      "execution_count": 1,
      "outputs": [
        {
          "output_type": "stream",
          "name": "stdout",
          "text": [
            "Collecting dpmfa\n",
            "  Downloading dpmfa-1.1-py3-none-any.whl.metadata (1.5 kB)\n",
            "Downloading dpmfa-1.1-py3-none-any.whl (21 kB)\n",
            "Installing collected packages: dpmfa\n",
            "Successfully installed dpmfa-1.1\n"
          ]
        }
      ]
    },
    {
      "metadata": {
        "id": "KgOjgGhx0PcR"
      },
      "cell_type": "markdown",
      "source": [
        "We use ipython notebooks stored in GitHub (https://github.com/alanbseo/LCAworkshop). GitHub notebooks can be direcly read in Colab.\n",
        "\n",
        "Reference:\n",
        "https://colab.research.google.com/github/googlecolab/colabtools/blob/master/notebooks/colab-github-demo.ipynb\n",
        "\n",
        "\n"
      ]
    },
    {
      "metadata": {
        "id": "Jjls2YdzmoY4"
      },
      "cell_type": "markdown",
      "source": [
        "Loading the Notebooks directly from GitHub by clicking the menu `File-Open notebook'. E.g. there you choose GitHub and search for the repository:\n",
        "\n",
        "Then you will see the list of the notebooks you can access.\n",
        "\n",
        "![alt text](https://cdn-images-1.medium.com/max/1600/1*hEKXmtJXecUbFcCca44fUQ.png/)"
      ]
    },
    {
      "metadata": {
        "id": "Thk1wUpIjc7J"
      },
      "cell_type": "markdown",
      "source": [
        "\n",
        "The Colab service limits the number of times it can run to avoid excessive resource consumption. If something is wrong, you can reset the virtual machine yourself by clicking \"Runtime\"> \"Reset All Runtime\".  If the reset fails, try again later.\n",
        "\n",
        "*Whenever* the CoLab runtime is reset (it can happen unexpectedly, esp. you are away from the screen for a while), we need to run this set-up script again to get the data ready.\n",
        "\n",
        "\n",
        "References:\n",
        "https://research.google.com/colaboratory/local-runtimes.html\n",
        "\n",
        "https://colab.research.google.com/notebooks/welcome.ipynb\n",
        "\n"
      ]
    }
  ]
}